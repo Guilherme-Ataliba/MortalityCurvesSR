{
 "cells": [
  {
   "cell_type": "code",
   "execution_count": 2,
   "metadata": {},
   "outputs": [],
   "source": [
    "import sympy as smp\n",
    "import pickle\n",
    "import pandas as pd\n",
    "import numpy as np\n",
    "from pysr import PySRRegressor\n",
    "import os\n",
    "\n",
    "SR_model = PySRRegressor(\n",
    "            niterations=60,  # < Increase me for better results\n",
    "            binary_operators=[\"+\", \"*\", \"-\", \"/\"],\n",
    "            unary_operators=[\n",
    "                # \"cos\",\n",
    "                \"exp\",\n",
    "                # \"sin\",\n",
    "                # \"inv(x) = 1/x\",\n",
    "                \"exp_neg(x) = exp(-x)\",\n",
    "                # \"abs\",\n",
    "                # \"sqrt\"\n",
    "            ],\n",
    "            extra_sympy_mappings={\n",
    "                # \"inv\": lambda x: 1 / x,\n",
    "                \"exp_neg\": lambda x: smp.exp(-x),\n",
    "            },\n",
    "            \n",
    "            elementwise_loss=\"loss(prediction, target) = (prediction - target)^2\",\n",
    "            # ^ Custom loss function (julia syntax)\n",
    "            warm_start=False,\n",
    "            verbosity=False,\n",
    "            progress=False,\n",
    "            temp_equation_file=True,\n",
    "            delete_tempfiles=True\n",
    "        )\n",
    "\n"
   ]
  },
  {
   "cell_type": "code",
   "execution_count": 31,
   "metadata": {},
   "outputs": [
    {
     "name": "stderr",
     "output_type": "stream",
     "text": [
      "C:\\Users\\guilherme\\AppData\\Local\\Temp\\ipykernel_4968\\248710943.py:8: FutureWarning: The 'delim_whitespace' keyword in pd.read_csv is deprecated and will be removed in a future version. Use ``sep='\\s+'`` instead\n",
      "  data = pd.read_csv(f\"../RealData/data/{country}-Mx_1x1.txt\", delim_whitespace=True)\n",
      "e:\\Documents\\Coding\\Repositorios\\MyRepositories\\NewMortalityCurves\\.venv\\Lib\\site-packages\\pandas\\core\\arraylike.py:399: RuntimeWarning: divide by zero encountered in log\n",
      "  result = getattr(ufunc, method)(*inputs, **kwargs)\n",
      "e:\\Documents\\Coding\\Repositorios\\MyRepositories\\NewMortalityCurves\\.venv\\Lib\\site-packages\\pysr\\sr.py:2191: UserWarning: The discovered expressions are being reset. Please set `warm_start=True` if you wish to continue to start a search where you left off.\n",
      "  warnings.warn(\n"
     ]
    },
    {
     "name": "stdout",
     "output_type": "stream",
     "text": [
      "Year: 1992  -  Iteration: 0\n"
     ]
    },
    {
     "name": "stderr",
     "output_type": "stream",
     "text": [
      "e:\\Documents\\Coding\\Repositorios\\MyRepositories\\NewMortalityCurves\\.venv\\Lib\\site-packages\\pysr\\sr.py:2191: UserWarning: The discovered expressions are being reset. Please set `warm_start=True` if you wish to continue to start a search where you left off.\n",
      "  warnings.warn(\n",
      "e:\\Documents\\Coding\\Repositorios\\MyRepositories\\NewMortalityCurves\\.venv\\Lib\\site-packages\\pysr\\sr.py:2191: UserWarning: The discovered expressions are being reset. Please set `warm_start=True` if you wish to continue to start a search where you left off.\n",
      "  warnings.warn(\n"
     ]
    },
    {
     "name": "stdout",
     "output_type": "stream",
     "text": [
      "Year: 1992  -  Iteration: 1\n"
     ]
    },
    {
     "name": "stderr",
     "output_type": "stream",
     "text": [
      "e:\\Documents\\Coding\\Repositorios\\MyRepositories\\NewMortalityCurves\\.venv\\Lib\\site-packages\\pysr\\sr.py:2191: UserWarning: The discovered expressions are being reset. Please set `warm_start=True` if you wish to continue to start a search where you left off.\n",
      "  warnings.warn(\n",
      "e:\\Documents\\Coding\\Repositorios\\MyRepositories\\NewMortalityCurves\\.venv\\Lib\\site-packages\\pysr\\sr.py:2191: UserWarning: The discovered expressions are being reset. Please set `warm_start=True` if you wish to continue to start a search where you left off.\n",
      "  warnings.warn(\n",
      "e:\\Documents\\Coding\\Repositorios\\MyRepositories\\NewMortalityCurves\\.venv\\Lib\\site-packages\\pysr\\sr.py:2191: UserWarning: The discovered expressions are being reset. Please set `warm_start=True` if you wish to continue to start a search where you left off.\n",
      "  warnings.warn(\n"
     ]
    },
    {
     "name": "stdout",
     "output_type": "stream",
     "text": [
      "Year: 1992  -  Iteration: 2\n"
     ]
    },
    {
     "name": "stderr",
     "output_type": "stream",
     "text": [
      "e:\\Documents\\Coding\\Repositorios\\MyRepositories\\NewMortalityCurves\\.venv\\Lib\\site-packages\\pysr\\sr.py:2191: UserWarning: The discovered expressions are being reset. Please set `warm_start=True` if you wish to continue to start a search where you left off.\n",
      "  warnings.warn(\n",
      "e:\\Documents\\Coding\\Repositorios\\MyRepositories\\NewMortalityCurves\\.venv\\Lib\\site-packages\\pysr\\sr.py:2191: UserWarning: The discovered expressions are being reset. Please set `warm_start=True` if you wish to continue to start a search where you left off.\n",
      "  warnings.warn(\n",
      "e:\\Documents\\Coding\\Repositorios\\MyRepositories\\NewMortalityCurves\\.venv\\Lib\\site-packages\\pysr\\sr.py:2191: UserWarning: The discovered expressions are being reset. Please set `warm_start=True` if you wish to continue to start a search where you left off.\n",
      "  warnings.warn(\n",
      "e:\\Documents\\Coding\\Repositorios\\MyRepositories\\NewMortalityCurves\\.venv\\Lib\\site-packages\\pandas\\core\\arraylike.py:399: RuntimeWarning: divide by zero encountered in log\n",
      "  result = getattr(ufunc, method)(*inputs, **kwargs)\n",
      "e:\\Documents\\Coding\\Repositorios\\MyRepositories\\NewMortalityCurves\\.venv\\Lib\\site-packages\\pysr\\sr.py:2191: UserWarning: The discovered expressions are being reset. Please set `warm_start=True` if you wish to continue to start a search where you left off.\n",
      "  warnings.warn(\n"
     ]
    },
    {
     "name": "stdout",
     "output_type": "stream",
     "text": [
      "Year: 1993  -  Iteration: 0\n"
     ]
    },
    {
     "name": "stderr",
     "output_type": "stream",
     "text": [
      "e:\\Documents\\Coding\\Repositorios\\MyRepositories\\NewMortalityCurves\\.venv\\Lib\\site-packages\\pysr\\sr.py:2191: UserWarning: The discovered expressions are being reset. Please set `warm_start=True` if you wish to continue to start a search where you left off.\n",
      "  warnings.warn(\n",
      "e:\\Documents\\Coding\\Repositorios\\MyRepositories\\NewMortalityCurves\\.venv\\Lib\\site-packages\\pysr\\sr.py:2191: UserWarning: The discovered expressions are being reset. Please set `warm_start=True` if you wish to continue to start a search where you left off.\n",
      "  warnings.warn(\n"
     ]
    },
    {
     "name": "stdout",
     "output_type": "stream",
     "text": [
      "Year: 1993  -  Iteration: 1\n"
     ]
    },
    {
     "name": "stderr",
     "output_type": "stream",
     "text": [
      "e:\\Documents\\Coding\\Repositorios\\MyRepositories\\NewMortalityCurves\\.venv\\Lib\\site-packages\\pysr\\sr.py:2191: UserWarning: The discovered expressions are being reset. Please set `warm_start=True` if you wish to continue to start a search where you left off.\n",
      "  warnings.warn(\n",
      "e:\\Documents\\Coding\\Repositorios\\MyRepositories\\NewMortalityCurves\\.venv\\Lib\\site-packages\\pysr\\sr.py:2191: UserWarning: The discovered expressions are being reset. Please set `warm_start=True` if you wish to continue to start a search where you left off.\n",
      "  warnings.warn(\n",
      "e:\\Documents\\Coding\\Repositorios\\MyRepositories\\NewMortalityCurves\\.venv\\Lib\\site-packages\\pysr\\sr.py:2191: UserWarning: The discovered expressions are being reset. Please set `warm_start=True` if you wish to continue to start a search where you left off.\n",
      "  warnings.warn(\n"
     ]
    },
    {
     "name": "stdout",
     "output_type": "stream",
     "text": [
      "Year: 1993  -  Iteration: 2\n"
     ]
    },
    {
     "name": "stderr",
     "output_type": "stream",
     "text": [
      "e:\\Documents\\Coding\\Repositorios\\MyRepositories\\NewMortalityCurves\\.venv\\Lib\\site-packages\\pysr\\sr.py:2191: UserWarning: The discovered expressions are being reset. Please set `warm_start=True` if you wish to continue to start a search where you left off.\n",
      "  warnings.warn(\n",
      "e:\\Documents\\Coding\\Repositorios\\MyRepositories\\NewMortalityCurves\\.venv\\Lib\\site-packages\\pysr\\sr.py:2191: UserWarning: The discovered expressions are being reset. Please set `warm_start=True` if you wish to continue to start a search where you left off.\n",
      "  warnings.warn(\n",
      "e:\\Documents\\Coding\\Repositorios\\MyRepositories\\NewMortalityCurves\\.venv\\Lib\\site-packages\\pysr\\sr.py:2191: UserWarning: The discovered expressions are being reset. Please set `warm_start=True` if you wish to continue to start a search where you left off.\n",
      "  warnings.warn(\n",
      "e:\\Documents\\Coding\\Repositorios\\MyRepositories\\NewMortalityCurves\\.venv\\Lib\\site-packages\\pandas\\core\\arraylike.py:399: RuntimeWarning: divide by zero encountered in log\n",
      "  result = getattr(ufunc, method)(*inputs, **kwargs)\n",
      "e:\\Documents\\Coding\\Repositorios\\MyRepositories\\NewMortalityCurves\\.venv\\Lib\\site-packages\\pysr\\sr.py:2191: UserWarning: The discovered expressions are being reset. Please set `warm_start=True` if you wish to continue to start a search where you left off.\n",
      "  warnings.warn(\n"
     ]
    },
    {
     "name": "stdout",
     "output_type": "stream",
     "text": [
      "Year: 1994  -  Iteration: 0\n"
     ]
    },
    {
     "name": "stderr",
     "output_type": "stream",
     "text": [
      "e:\\Documents\\Coding\\Repositorios\\MyRepositories\\NewMortalityCurves\\.venv\\Lib\\site-packages\\pysr\\sr.py:2191: UserWarning: The discovered expressions are being reset. Please set `warm_start=True` if you wish to continue to start a search where you left off.\n",
      "  warnings.warn(\n"
     ]
    },
    {
     "ename": "KeyboardInterrupt",
     "evalue": "",
     "output_type": "error",
     "traceback": [
      "\u001b[31m---------------------------------------------------------------------------\u001b[39m",
      "\u001b[31mKeyboardInterrupt\u001b[39m                         Traceback (most recent call last)",
      "\u001b[36mCell\u001b[39m\u001b[36m \u001b[39m\u001b[32mIn[31]\u001b[39m\u001b[32m, line 61\u001b[39m\n\u001b[32m     59\u001b[39m SR_model.fit(np.c_[age_total], np.c_[log_total])\n\u001b[32m     60\u001b[39m current_results[\u001b[33m\"\u001b[39m\u001b[33mTotal\u001b[39m\u001b[33m\"\u001b[39m] = (SR_model.sympy())\n\u001b[32m---> \u001b[39m\u001b[32m61\u001b[39m \u001b[43mSR_model\u001b[49m\u001b[43m.\u001b[49m\u001b[43mfit\u001b[49m\u001b[43m(\u001b[49m\u001b[43mnp\u001b[49m\u001b[43m.\u001b[49m\u001b[43mc_\u001b[49m\u001b[43m[\u001b[49m\u001b[43mage_female\u001b[49m\u001b[43m]\u001b[49m\u001b[43m,\u001b[49m\u001b[43m \u001b[49m\u001b[43mnp\u001b[49m\u001b[43m.\u001b[49m\u001b[43mc_\u001b[49m\u001b[43m[\u001b[49m\u001b[43mlog_female\u001b[49m\u001b[43m]\u001b[49m\u001b[43m)\u001b[49m\n\u001b[32m     62\u001b[39m current_results[\u001b[33m\"\u001b[39m\u001b[33mFemale\u001b[39m\u001b[33m\"\u001b[39m] = (SR_model.sympy())\n\u001b[32m     63\u001b[39m SR_model.fit(np.c_[age_male], np.c_[log_male])\n",
      "\u001b[36mFile \u001b[39m\u001b[32me:\\Documents\\Coding\\Repositorios\\MyRepositories\\NewMortalityCurves\\.venv\\Lib\\site-packages\\pysr\\sr.py:2287\u001b[39m, in \u001b[36mPySRRegressor.fit\u001b[39m\u001b[34m(self, X, y, Xresampled, weights, variable_names, complexity_of_variables, X_units, y_units, category)\u001b[39m\n\u001b[32m   2284\u001b[39m     \u001b[38;5;28mself\u001b[39m._checkpoint()\n\u001b[32m   2286\u001b[39m \u001b[38;5;66;03m# Perform the search:\u001b[39;00m\n\u001b[32m-> \u001b[39m\u001b[32m2287\u001b[39m \u001b[38;5;28;43mself\u001b[39;49m\u001b[43m.\u001b[49m\u001b[43m_run\u001b[49m\u001b[43m(\u001b[49m\u001b[43mX\u001b[49m\u001b[43m,\u001b[49m\u001b[43m \u001b[49m\u001b[43my\u001b[49m\u001b[43m,\u001b[49m\u001b[43m \u001b[49m\u001b[43mruntime_params\u001b[49m\u001b[43m,\u001b[49m\u001b[43m \u001b[49m\u001b[43mweights\u001b[49m\u001b[43m=\u001b[49m\u001b[43mweights\u001b[49m\u001b[43m,\u001b[49m\u001b[43m \u001b[49m\u001b[43mseed\u001b[49m\u001b[43m=\u001b[49m\u001b[43mseed\u001b[49m\u001b[43m,\u001b[49m\u001b[43m \u001b[49m\u001b[43mcategory\u001b[49m\u001b[43m=\u001b[49m\u001b[43mcategory\u001b[49m\u001b[43m)\u001b[49m\n\u001b[32m   2289\u001b[39m \u001b[38;5;66;03m# Then, after fit, we save again, so the pickle file contains\u001b[39;00m\n\u001b[32m   2290\u001b[39m \u001b[38;5;66;03m# the equations:\u001b[39;00m\n\u001b[32m   2291\u001b[39m \u001b[38;5;28;01mif\u001b[39;00m \u001b[38;5;129;01mnot\u001b[39;00m \u001b[38;5;28mself\u001b[39m.temp_equation_file:\n",
      "\u001b[36mFile \u001b[39m\u001b[32me:\\Documents\\Coding\\Repositorios\\MyRepositories\\NewMortalityCurves\\.venv\\Lib\\site-packages\\pysr\\sr.py:2083\u001b[39m, in \u001b[36mPySRRegressor._run\u001b[39m\u001b[34m(self, X, y, runtime_params, weights, category, seed)\u001b[39m\n\u001b[32m   2080\u001b[39m \u001b[38;5;28;01melse\u001b[39;00m:\n\u001b[32m   2081\u001b[39m     jl_y_variable_names = \u001b[38;5;28;01mNone\u001b[39;00m\n\u001b[32m-> \u001b[39m\u001b[32m2083\u001b[39m out = \u001b[43mSymbolicRegression\u001b[49m\u001b[43m.\u001b[49m\u001b[43mequation_search\u001b[49m\u001b[43m(\u001b[49m\n\u001b[32m   2084\u001b[39m \u001b[43m    \u001b[49m\u001b[43mjl_X\u001b[49m\u001b[43m,\u001b[49m\n\u001b[32m   2085\u001b[39m \u001b[43m    \u001b[49m\u001b[43mjl_y\u001b[49m\u001b[43m,\u001b[49m\n\u001b[32m   2086\u001b[39m \u001b[43m    \u001b[49m\u001b[43mweights\u001b[49m\u001b[43m=\u001b[49m\u001b[43mjl_weights\u001b[49m\u001b[43m,\u001b[49m\n\u001b[32m   2087\u001b[39m \u001b[43m    \u001b[49m\u001b[43mextra\u001b[49m\u001b[43m=\u001b[49m\u001b[43mjl_extra\u001b[49m\u001b[43m,\u001b[49m\n\u001b[32m   2088\u001b[39m \u001b[43m    \u001b[49m\u001b[43mniterations\u001b[49m\u001b[43m=\u001b[49m\u001b[38;5;28;43mint\u001b[39;49m\u001b[43m(\u001b[49m\u001b[38;5;28;43mself\u001b[39;49m\u001b[43m.\u001b[49m\u001b[43mniterations\u001b[49m\u001b[43m)\u001b[49m\u001b[43m,\u001b[49m\n\u001b[32m   2089\u001b[39m \u001b[43m    \u001b[49m\u001b[43mvariable_names\u001b[49m\u001b[43m=\u001b[49m\u001b[43mjl_array\u001b[49m\u001b[43m(\u001b[49m\u001b[43m[\u001b[49m\u001b[38;5;28;43mstr\u001b[39;49m\u001b[43m(\u001b[49m\u001b[43mv\u001b[49m\u001b[43m)\u001b[49m\u001b[43m \u001b[49m\u001b[38;5;28;43;01mfor\u001b[39;49;00m\u001b[43m \u001b[49m\u001b[43mv\u001b[49m\u001b[43m \u001b[49m\u001b[38;5;129;43;01min\u001b[39;49;00m\u001b[43m \u001b[49m\u001b[38;5;28;43mself\u001b[39;49m\u001b[43m.\u001b[49m\u001b[43mfeature_names_in_\u001b[49m\u001b[43m]\u001b[49m\u001b[43m)\u001b[49m\u001b[43m,\u001b[49m\n\u001b[32m   2090\u001b[39m \u001b[43m    \u001b[49m\u001b[43mdisplay_variable_names\u001b[49m\u001b[43m=\u001b[49m\u001b[43mjl_array\u001b[49m\u001b[43m(\u001b[49m\n\u001b[32m   2091\u001b[39m \u001b[43m        \u001b[49m\u001b[43m[\u001b[49m\u001b[38;5;28;43mstr\u001b[39;49m\u001b[43m(\u001b[49m\u001b[43mv\u001b[49m\u001b[43m)\u001b[49m\u001b[43m \u001b[49m\u001b[38;5;28;43;01mfor\u001b[39;49;00m\u001b[43m \u001b[49m\u001b[43mv\u001b[49m\u001b[43m \u001b[49m\u001b[38;5;129;43;01min\u001b[39;49;00m\u001b[43m \u001b[49m\u001b[38;5;28;43mself\u001b[39;49m\u001b[43m.\u001b[49m\u001b[43mdisplay_feature_names_in_\u001b[49m\u001b[43m]\u001b[49m\n\u001b[32m   2092\u001b[39m \u001b[43m    \u001b[49m\u001b[43m)\u001b[49m\u001b[43m,\u001b[49m\n\u001b[32m   2093\u001b[39m \u001b[43m    \u001b[49m\u001b[43my_variable_names\u001b[49m\u001b[43m=\u001b[49m\u001b[43mjl_y_variable_names\u001b[49m\u001b[43m,\u001b[49m\n\u001b[32m   2094\u001b[39m \u001b[43m    \u001b[49m\u001b[43mX_units\u001b[49m\u001b[43m=\u001b[49m\u001b[43mjl_array\u001b[49m\u001b[43m(\u001b[49m\u001b[38;5;28;43mself\u001b[39;49m\u001b[43m.\u001b[49m\u001b[43mX_units_\u001b[49m\u001b[43m)\u001b[49m\u001b[43m,\u001b[49m\n\u001b[32m   2095\u001b[39m \u001b[43m    \u001b[49m\u001b[43my_units\u001b[49m\u001b[43m=\u001b[49m\u001b[43m(\u001b[49m\n\u001b[32m   2096\u001b[39m \u001b[43m        \u001b[49m\u001b[43mjl_array\u001b[49m\u001b[43m(\u001b[49m\u001b[38;5;28;43mself\u001b[39;49m\u001b[43m.\u001b[49m\u001b[43my_units_\u001b[49m\u001b[43m)\u001b[49m\n\u001b[32m   2097\u001b[39m \u001b[43m        \u001b[49m\u001b[38;5;28;43;01mif\u001b[39;49;00m\u001b[43m \u001b[49m\u001b[38;5;28;43misinstance\u001b[39;49m\u001b[43m(\u001b[49m\u001b[38;5;28;43mself\u001b[39;49m\u001b[43m.\u001b[49m\u001b[43my_units_\u001b[49m\u001b[43m,\u001b[49m\u001b[43m \u001b[49m\u001b[38;5;28;43mlist\u001b[39;49m\u001b[43m)\u001b[49m\n\u001b[32m   2098\u001b[39m \u001b[43m        \u001b[49m\u001b[38;5;28;43;01melse\u001b[39;49;00m\u001b[43m \u001b[49m\u001b[38;5;28;43mself\u001b[39;49m\u001b[43m.\u001b[49m\u001b[43my_units_\u001b[49m\n\u001b[32m   2099\u001b[39m \u001b[43m    \u001b[49m\u001b[43m)\u001b[49m\u001b[43m,\u001b[49m\n\u001b[32m   2100\u001b[39m \u001b[43m    \u001b[49m\u001b[43moptions\u001b[49m\u001b[43m=\u001b[49m\u001b[43moptions\u001b[49m\u001b[43m,\u001b[49m\n\u001b[32m   2101\u001b[39m \u001b[43m    \u001b[49m\u001b[43mnumprocs\u001b[49m\u001b[43m=\u001b[49m\u001b[43mnumprocs\u001b[49m\u001b[43m,\u001b[49m\n\u001b[32m   2102\u001b[39m \u001b[43m    \u001b[49m\u001b[43mparallelism\u001b[49m\u001b[43m=\u001b[49m\u001b[43mparallelism\u001b[49m\u001b[43m,\u001b[49m\n\u001b[32m   2103\u001b[39m \u001b[43m    \u001b[49m\u001b[43msaved_state\u001b[49m\u001b[43m=\u001b[49m\u001b[38;5;28;43mself\u001b[39;49m\u001b[43m.\u001b[49m\u001b[43mjulia_state_\u001b[49m\u001b[43m,\u001b[49m\n\u001b[32m   2104\u001b[39m \u001b[43m    \u001b[49m\u001b[43mreturn_state\u001b[49m\u001b[43m=\u001b[49m\u001b[38;5;28;43;01mTrue\u001b[39;49;00m\u001b[43m,\u001b[49m\n\u001b[32m   2105\u001b[39m \u001b[43m    \u001b[49m\u001b[43mrun_id\u001b[49m\u001b[43m=\u001b[49m\u001b[38;5;28;43mself\u001b[39;49m\u001b[43m.\u001b[49m\u001b[43mrun_id_\u001b[49m\u001b[43m,\u001b[49m\n\u001b[32m   2106\u001b[39m \u001b[43m    \u001b[49m\u001b[43maddprocs_function\u001b[49m\u001b[43m=\u001b[49m\u001b[43mcluster_manager\u001b[49m\u001b[43m,\u001b[49m\n\u001b[32m   2107\u001b[39m \u001b[43m    \u001b[49m\u001b[43mheap_size_hint_in_bytes\u001b[49m\u001b[43m=\u001b[49m\u001b[38;5;28;43mself\u001b[39;49m\u001b[43m.\u001b[49m\u001b[43mheap_size_hint_in_bytes\u001b[49m\u001b[43m,\u001b[49m\n\u001b[32m   2108\u001b[39m \u001b[43m    \u001b[49m\u001b[43mprogress\u001b[49m\u001b[43m=\u001b[49m\u001b[43mruntime_params\u001b[49m\u001b[43m.\u001b[49m\u001b[43mprogress\u001b[49m\n\u001b[32m   2109\u001b[39m \u001b[43m    \u001b[49m\u001b[38;5;129;43;01mand\u001b[39;49;00m\u001b[43m \u001b[49m\u001b[38;5;28;43mself\u001b[39;49m\u001b[43m.\u001b[49m\u001b[43mverbosity\u001b[49m\u001b[43m \u001b[49m\u001b[43m>\u001b[49m\u001b[43m \u001b[49m\u001b[32;43m0\u001b[39;49m\n\u001b[32m   2110\u001b[39m \u001b[43m    \u001b[49m\u001b[38;5;129;43;01mand\u001b[39;49;00m\u001b[43m \u001b[49m\u001b[38;5;28;43mlen\u001b[39;49m\u001b[43m(\u001b[49m\u001b[43my\u001b[49m\u001b[43m.\u001b[49m\u001b[43mshape\u001b[49m\u001b[43m)\u001b[49m\u001b[43m \u001b[49m\u001b[43m==\u001b[49m\u001b[43m \u001b[49m\u001b[32;43m1\u001b[39;49m\u001b[43m,\u001b[49m\n\u001b[32m   2111\u001b[39m \u001b[43m    \u001b[49m\u001b[43mverbosity\u001b[49m\u001b[43m=\u001b[49m\u001b[38;5;28;43mint\u001b[39;49m\u001b[43m(\u001b[49m\u001b[38;5;28;43mself\u001b[39;49m\u001b[43m.\u001b[49m\u001b[43mverbosity\u001b[49m\u001b[43m)\u001b[49m\u001b[43m,\u001b[49m\n\u001b[32m   2112\u001b[39m \u001b[43m    \u001b[49m\u001b[43mlogger\u001b[49m\u001b[43m=\u001b[49m\u001b[43mlogger\u001b[49m\u001b[43m,\u001b[49m\n\u001b[32m   2113\u001b[39m \u001b[43m\u001b[49m\u001b[43m)\u001b[49m\n\u001b[32m   2114\u001b[39m \u001b[38;5;28;01mif\u001b[39;00m \u001b[38;5;28mself\u001b[39m.logger_spec \u001b[38;5;129;01mis\u001b[39;00m \u001b[38;5;129;01mnot\u001b[39;00m \u001b[38;5;28;01mNone\u001b[39;00m:\n\u001b[32m   2115\u001b[39m     \u001b[38;5;28mself\u001b[39m.logger_spec.write_hparams(logger, \u001b[38;5;28mself\u001b[39m.get_params())\n",
      "\u001b[31mKeyboardInterrupt\u001b[39m: "
     ]
    }
   ],
   "source": [
    "countries = [country[0:-11] for country in os.listdir(\"../RealData/data\")]\n",
    "countries\n",
    "\n",
    "all_results = pd.DataFrame()\n",
    "\n",
    "for country in countries:\n",
    "\n",
    "    data = pd.read_csv(f\"../RealData/data/{country}-Mx_1x1.txt\", delim_whitespace=True)\n",
    "    data[\"Age\"] = data[\"Age\"].map(lambda x: 110 if x == \"110+\" else x)\n",
    "    data.Age = data.Age.astype(\"int\")\n",
    "\n",
    "    data.Male = pd.to_numeric(data.Male, errors=\"coerce\")\n",
    "    data.Female = pd.to_numeric(data.Female, errors=\"coerce\")\n",
    "    data.Total = pd.to_numeric(data.Total, errors=\"coerce\")\n",
    "\n",
    "    data = data.dropna()\n",
    "    \n",
    "\n",
    "    initial_year, end_year = data.Year.unique().min(), data.Year.unique().max()\n",
    "\n",
    "    for year in range(initial_year, end_year+1):\n",
    "        current_results = {}\n",
    "        \n",
    "        # Trimmed Data\n",
    "        data_ = data[(data[\"Year\"] == year) & (data[\"Age\"] >= 30)]\n",
    "        \n",
    "        # Log data\n",
    "        log_total = np.log(data_.Total)\n",
    "        log_female = np.log(data_.Female)\n",
    "        log_male = np.log(data_.Male)\n",
    "\n",
    "        # Create a mask to filter out NaN, inf, and excessively large values\n",
    "        mask = (~np.isnan(log_total)) & (~np.isinf(log_total)) & (log_total < np.finfo(np.float64).max)\n",
    "        log_total = log_total[mask]\n",
    "        age_total = np.array(data_.Age)[mask]\n",
    "\n",
    "        mask = (~np.isnan(log_female)) & (~np.isinf(log_female)) & (log_female < np.finfo(np.float64).max)\n",
    "        log_female = log_female[mask]\n",
    "        age_female = np.array(data_.Age)[mask]\n",
    "\n",
    "        mask = (~np.isnan(log_male)) & (~np.isinf(log_male)) & (log_male < np.finfo(np.float64).max)\n",
    "        log_male = log_male[mask]\n",
    "        age_male = np.array(data_.Age)[mask]\n",
    "\n",
    "        # plt.figure(figsize=(10, 6))\n",
    "\n",
    "        # plt.yscale(\"log\")\n",
    "        # plt.title(year)\n",
    "\n",
    "        # sns.lineplot(data_, x=\"Age\", y=\"Total\", label=\"Total\")\n",
    "        # sns.lineplot(data_, x=\"Age\", y=\"Female\", label=\"Female\")\n",
    "        # sns.lineplot(data_, x=\"Age\", y=\"Male\", label=\"Male\")\n",
    "        # plt.show()\n",
    "\n",
    "        for iteration in range(3):\n",
    "            print(f\"Year: {year}  -  Iteration: {iteration}\")\n",
    "            current_results[\"iteration\"] = iteration\n",
    "            current_results[\"Year\"] = year\n",
    "            SR_model.fit(np.c_[age_total], np.c_[log_total])\n",
    "            current_results[\"Total\"] = (SR_model.sympy())\n",
    "            SR_model.fit(np.c_[age_female], np.c_[log_female])\n",
    "            current_results[\"Female\"] = (SR_model.sympy())\n",
    "            SR_model.fit(np.c_[age_male], np.c_[log_male])\n",
    "            current_results[\"Male\"] = (SR_model.sympy())\n",
    "\n",
    "            current_df = pd.DataFrame([current_results])\n",
    "            all_results = pd.concat([all_results, current_df])\n",
    "\n",
    "    all_results[\"Country\"] = country\n",
    "\n",
    "    with open(f\"../RegressionResults/all_results_log_expand-{country}.pkl\", \"wb\") as file:\n",
    "        pickle.dump(all_results, file)\n",
    "\n",
    "\n",
    "with open(f\"../RegressionResults/all_results_log_expand-all.pkl\", \"wb\") as file:\n",
    "    pickle.dump(all_results, file)"
   ]
  }
 ],
 "metadata": {
  "kernelspec": {
   "display_name": ".venv",
   "language": "python",
   "name": "python3"
  },
  "language_info": {
   "codemirror_mode": {
    "name": "ipython",
    "version": 3
   },
   "file_extension": ".py",
   "mimetype": "text/x-python",
   "name": "python",
   "nbconvert_exporter": "python",
   "pygments_lexer": "ipython3",
   "version": "3.13.2"
  }
 },
 "nbformat": 4,
 "nbformat_minor": 2
}
