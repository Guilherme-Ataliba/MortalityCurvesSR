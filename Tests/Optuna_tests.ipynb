{
 "cells": [
  {
   "cell_type": "code",
   "execution_count": 1,
   "id": "ddf47019",
   "metadata": {},
   "outputs": [
    {
     "name": "stderr",
     "output_type": "stream",
     "text": [
      "e:\\Documents\\Coding\\Repositorios\\MyRepositories\\NewMortalityCurves\\.venv\\Lib\\site-packages\\tqdm\\auto.py:21: TqdmWarning: IProgress not found. Please update jupyter and ipywidgets. See https://ipywidgets.readthedocs.io/en/stable/user_install.html\n",
      "  from .autonotebook import tqdm as notebook_tqdm\n"
     ]
    },
    {
     "name": "stdout",
     "output_type": "stream",
     "text": [
      "Detected IPython. Loading juliacall extension. See https://juliapy.github.io/PythonCall.jl/stable/compat/#IPython\n"
     ]
    }
   ],
   "source": [
    "import optuna\n",
    "from pysr import PySRRegressor\n",
    "import numpy as np\n",
    "from sklearn.model_selection import train_test_split\n",
    "from sklearn.metrics import mean_squared_error\n",
    "import pickle\n",
    "import pandas as pd\n",
    "import matplotlib.pyplot as plt\n",
    "import seaborn as sns"
   ]
  },
  {
   "cell_type": "code",
   "execution_count": null,
   "id": "55cd9ed0",
   "metadata": {},
   "outputs": [],
   "source": [
    "# 1. Prepare toy data\n",
    "X = np.random.randn(200, 5)\n",
    "y = 2.5 * np.cos(X[:, 2]) + X[:, 0]**2 - 0.3 * X[:, 1]\n",
    "\n",
    "X_train, X_valid, y_train, y_valid = train_test_split(\n",
    "    X, y, test_size=0.2, random_state=42\n",
    ")\n",
    "\n",
    "# 2. Define Optuna objective\n",
    "def objective(trial: optuna.Trial) -> float:\n",
    "    # Suggest PySR hyperparameters\n",
    "    pop_size = trial.suggest_int(\"population_size\", 50, 500)\n",
    "    n_iters = trial.suggest_int(\"niterations\", 10, 100)\n",
    "    parsimony = trial.suggest_float(\"parsimony\", 0.001, 0.1, log=True)\n",
    "    optimizer_restarts = trial.suggest_int(\"optimizer_nrestarts\", 1, 10)\n",
    "\n",
    "    model = PySRRegressor(\n",
    "        population_size=pop_size,\n",
    "        niterations=n_iters,\n",
    "        parsimony=parsimony,\n",
    "        optimizer_nrestarts=optimizer_restarts,\n",
    "        # you can add more PySR settings here...\n",
    "    )\n",
    "\n",
    "    # Fit and evaluate\n",
    "    model.fit(X_train, y_train)\n",
    "    y_pred = model.predict(X_valid)\n",
    "    return mean_squared_error(y_valid, y_pred)\n",
    "\n",
    "# 3. Create and run the study\n",
    "sampler = optuna.samplers.TPESampler()  # default TPE sampler :contentReference[oaicite:2]{index=2}\n",
    "pruner = optuna.pruners.MedianPruner()  # stop unpromising trials early :contentReference[oaicite:3]{index=3}\n",
    "\n",
    "study = optuna.create_study(\n",
    "    storage = \"sqlite:///db.sqlite3\",\n",
    "    study_name = \"pysr-test_study\",\n",
    "    direction=\"minimize\",\n",
    "    sampler=sampler,\n",
    "    pruner=pruner\n",
    ")\n",
    "study.optimize(objective, n_trials=50, timeout=600)\n",
    "\n",
    "print(\"Best MSE:\", study.best_value)\n",
    "print(\"Best params:\", study.best_params)"
   ]
  },
  {
   "cell_type": "code",
   "execution_count": 3,
   "id": "9a9f4dea",
   "metadata": {},
   "outputs": [
    {
     "data": {
      "text/plain": [
       "{'population_size': 407,\n",
       " 'niterations': 77,\n",
       " 'parsimony': 0.08919810761494844,\n",
       " 'optimizer_nrestarts': 6}"
      ]
     },
     "execution_count": 3,
     "metadata": {},
     "output_type": "execute_result"
    }
   ],
   "source": [
    "study.best_params"
   ]
  },
  {
   "cell_type": "markdown",
   "id": "0289f5b9",
   "metadata": {},
   "source": [
    "# Multiple Optimization - Pareto Front"
   ]
  },
  {
   "cell_type": "code",
   "execution_count": 2,
   "id": "2cd450bd",
   "metadata": {},
   "outputs": [],
   "source": [
    "import numpy as np\n",
    "\n",
    "# Set a random seed for reproducibility\n",
    "np.random.seed(42)\n",
    "\n",
    "# Create 5 datasets\n",
    "Xs = []\n",
    "Ys = []\n",
    "\n",
    "n_samples = 100  # Number of points per dataset\n",
    "\n",
    "# Dataset 1: Linear\n",
    "X1 = np.random.uniform(-5, 5, size=(n_samples, 1))\n",
    "y1 = 2 * X1[:, 0] + 1 + np.random.normal(0, 0.5, size=n_samples)\n",
    "\n",
    "# Dataset 2: Quadratic\n",
    "X2 = np.random.uniform(-3, 3, size=(n_samples, 1))\n",
    "y2 = 0.5 * X2[:, 0]**2 - 3 * X2[:, 0] + 2 + np.random.normal(0, 0.5, size=n_samples)\n",
    "\n",
    "# Dataset 3: Sinusoidal\n",
    "X3 = np.random.uniform(0, 2*np.pi, size=(n_samples, 1))\n",
    "y3 = np.sin(X3[:, 0]) + 0.1 * np.random.normal(0, 1, size=n_samples)\n",
    "\n",
    "# Dataset 4: Exponential decay\n",
    "X4 = np.random.uniform(0, 5, size=(n_samples, 1))\n",
    "y4 = np.exp(-X4[:, 0]) + np.random.normal(0, 0.05, size=n_samples)\n",
    "\n",
    "# Dataset 5: Cubic\n",
    "X5 = np.random.uniform(-2, 2, size=(n_samples, 1))\n",
    "y5 = X5[:, 0]**3 - X5[:, 0]**2 + X5[:, 0] + np.random.normal(0, 0.2, size=n_samples)\n",
    "\n",
    "# Store them in lists\n",
    "Xs = [X1, X2, X3, X4, X5]\n",
    "Ys = [y1, y2, y3, y4, y5]\n"
   ]
  },
  {
   "cell_type": "code",
   "execution_count": null,
   "id": "a7d90ee1",
   "metadata": {},
   "outputs": [
    {
     "name": "stderr",
     "output_type": "stream",
     "text": [
      "C:\\Users\\guilherme\\AppData\\Local\\Temp\\ipykernel_4644\\530810409.py:83: ExperimentalWarning: NSGAIIISampler is experimental (supported from v3.2.0). The interface can change in the future.\n",
      "  sampler=NSGAIIISampler()\n",
      "[I 2025-04-27 19:51:35,000] A new study created in RDB with name: pysr_Pareto_III_full_params3-test_study\n",
      "e:\\Documents\\Coding\\Repositorios\\MyRepositories\\NewMortalityCurves\\.venv\\Lib\\site-packages\\pysr\\sr.py:1848: UserWarning: Note: Setting `random_state` without also setting `deterministic=True` and `parallelism='serial'` will result in non-deterministic searches.\n",
      "  warnings.warn(\n",
      "e:\\Documents\\Coding\\Repositorios\\MyRepositories\\NewMortalityCurves\\.venv\\Lib\\site-packages\\pysr\\sr.py:2191: UserWarning: The discovered expressions are being reset. Please set `warm_start=True` if you wish to continue to start a search where you left off.\n",
      "  warnings.warn(\n",
      "e:\\Documents\\Coding\\Repositorios\\MyRepositories\\NewMortalityCurves\\.venv\\Lib\\site-packages\\pysr\\sr.py:1848: UserWarning: Note: Setting `random_state` without also setting `deterministic=True` and `parallelism='serial'` will result in non-deterministic searches.\n",
      "  warnings.warn(\n",
      "e:\\Documents\\Coding\\Repositorios\\MyRepositories\\NewMortalityCurves\\.venv\\Lib\\site-packages\\pysr\\sr.py:2191: UserWarning: The discovered expressions are being reset. Please set `warm_start=True` if you wish to continue to start a search where you left off.\n",
      "  warnings.warn(\n",
      "e:\\Documents\\Coding\\Repositorios\\MyRepositories\\NewMortalityCurves\\.venv\\Lib\\site-packages\\sklearn\\gaussian_process\\kernels.py:442: ConvergenceWarning: The optimal value found for dimension 0 of parameter k2__constant_value is close to the specified lower bound 1e-05. Decreasing the bound and calling fit again may find a better value.\n",
      "  warnings.warn(\n",
      "e:\\Documents\\Coding\\Repositorios\\MyRepositories\\NewMortalityCurves\\.venv\\Lib\\site-packages\\pysr\\sr.py:1848: UserWarning: Note: Setting `random_state` without also setting `deterministic=True` and `parallelism='serial'` will result in non-deterministic searches.\n",
      "  warnings.warn(\n",
      "e:\\Documents\\Coding\\Repositorios\\MyRepositories\\NewMortalityCurves\\.venv\\Lib\\site-packages\\pysr\\sr.py:2191: UserWarning: The discovered expressions are being reset. Please set `warm_start=True` if you wish to continue to start a search where you left off.\n",
      "  warnings.warn(\n",
      "e:\\Documents\\Coding\\Repositorios\\MyRepositories\\NewMortalityCurves\\.venv\\Lib\\site-packages\\pysr\\sr.py:1848: UserWarning: Note: Setting `random_state` without also setting `deterministic=True` and `parallelism='serial'` will result in non-deterministic searches.\n",
      "  warnings.warn(\n",
      "e:\\Documents\\Coding\\Repositorios\\MyRepositories\\NewMortalityCurves\\.venv\\Lib\\site-packages\\pysr\\sr.py:2191: UserWarning: The discovered expressions are being reset. Please set `warm_start=True` if you wish to continue to start a search where you left off.\n",
      "  warnings.warn(\n",
      "e:\\Documents\\Coding\\Repositorios\\MyRepositories\\NewMortalityCurves\\.venv\\Lib\\site-packages\\pysr\\sr.py:1848: UserWarning: Note: Setting `random_state` without also setting `deterministic=True` and `parallelism='serial'` will result in non-deterministic searches.\n",
      "  warnings.warn(\n",
      "e:\\Documents\\Coding\\Repositorios\\MyRepositories\\NewMortalityCurves\\.venv\\Lib\\site-packages\\optuna\\distributions.py:515: UserWarning: Choices for a categorical distribution should be a tuple of None, bool, int, float and str for persistent storage but contains ['+', '-'] which is of type list.\n",
      "  warnings.warn(message)\n",
      "e:\\Documents\\Coding\\Repositorios\\MyRepositories\\NewMortalityCurves\\.venv\\Lib\\site-packages\\optuna\\distributions.py:515: UserWarning: Choices for a categorical distribution should be a tuple of None, bool, int, float and str for persistent storage but contains ['+', '-', '*'] which is of type list.\n",
      "  warnings.warn(message)\n",
      "e:\\Documents\\Coding\\Repositorios\\MyRepositories\\NewMortalityCurves\\.venv\\Lib\\site-packages\\optuna\\distributions.py:515: UserWarning: Choices for a categorical distribution should be a tuple of None, bool, int, float and str for persistent storage but contains ['+', '-', '/'] which is of type list.\n",
      "  warnings.warn(message)\n",
      "e:\\Documents\\Coding\\Repositorios\\MyRepositories\\NewMortalityCurves\\.venv\\Lib\\site-packages\\optuna\\distributions.py:515: UserWarning: Choices for a categorical distribution should be a tuple of None, bool, int, float and str for persistent storage but contains ['+', '-', '*', '/'] which is of type list.\n",
      "  warnings.warn(message)\n",
      "e:\\Documents\\Coding\\Repositorios\\MyRepositories\\NewMortalityCurves\\.venv\\Lib\\site-packages\\optuna\\distributions.py:515: UserWarning: Choices for a categorical distribution should be a tuple of None, bool, int, float and str for persistent storage but contains ['exp'] which is of type list.\n",
      "  warnings.warn(message)\n",
      "e:\\Documents\\Coding\\Repositorios\\MyRepositories\\NewMortalityCurves\\.venv\\Lib\\site-packages\\optuna\\distributions.py:515: UserWarning: Choices for a categorical distribution should be a tuple of None, bool, int, float and str for persistent storage but contains ['exp', 'exp_neg(x) = exp(-x)'] which is of type list.\n",
      "  warnings.warn(message)\n",
      "e:\\Documents\\Coding\\Repositorios\\MyRepositories\\NewMortalityCurves\\.venv\\Lib\\site-packages\\optuna\\distributions.py:515: UserWarning: Choices for a categorical distribution should be a tuple of None, bool, int, float and str for persistent storage but contains ['exp', 'square'] which is of type list.\n",
      "  warnings.warn(message)\n",
      "e:\\Documents\\Coding\\Repositorios\\MyRepositories\\NewMortalityCurves\\.venv\\Lib\\site-packages\\optuna\\distributions.py:515: UserWarning: Choices for a categorical distribution should be a tuple of None, bool, int, float and str for persistent storage but contains ['exp', 'square', 'cube'] which is of type list.\n",
      "  warnings.warn(message)\n",
      "e:\\Documents\\Coding\\Repositorios\\MyRepositories\\NewMortalityCurves\\.venv\\Lib\\site-packages\\optuna\\distributions.py:515: UserWarning: Choices for a categorical distribution should be a tuple of None, bool, int, float and str for persistent storage but contains ['exp', 'sqrt'] which is of type list.\n",
      "  warnings.warn(message)\n",
      "e:\\Documents\\Coding\\Repositorios\\MyRepositories\\NewMortalityCurves\\.venv\\Lib\\site-packages\\optuna\\distributions.py:515: UserWarning: Choices for a categorical distribution should be a tuple of None, bool, int, float and str for persistent storage but contains ['exp', 'inv'] which is of type list.\n",
      "  warnings.warn(message)\n",
      "e:\\Documents\\Coding\\Repositorios\\MyRepositories\\NewMortalityCurves\\.venv\\Lib\\site-packages\\optuna\\distributions.py:515: UserWarning: Choices for a categorical distribution should be a tuple of None, bool, int, float and str for persistent storage but contains ['exp', 'abs'] which is of type list.\n",
      "  warnings.warn(message)\n",
      "[I 2025-04-27 20:03:16,519] Trial 0 finished with values: [0.2269207575910452, 0.23964064820803282, 0.009346338465690534, 0.002907458306067242, 0.03658601922756815] and parameters: {'population_size': 92, 'populations': 48, 'niterations': 292, 'parsimony': 0.0010148514204779018, 'adaptive_parsimony_scaling': 1064.9435455145317, 'binary_operators': ['+', '-', '*'], 'unary_operators': ['exp'], 'maxsize': 26, 'denoise': 'False'}.\n",
      "e:\\Documents\\Coding\\Repositorios\\MyRepositories\\NewMortalityCurves\\.venv\\Lib\\site-packages\\pysr\\sr.py:1848: UserWarning: Note: Setting `random_state` without also setting `deterministic=True` and `parallelism='serial'` will result in non-deterministic searches.\n",
      "  warnings.warn(\n",
      "e:\\Documents\\Coding\\Repositorios\\MyRepositories\\NewMortalityCurves\\.venv\\Lib\\site-packages\\pysr\\sr.py:2191: UserWarning: The discovered expressions are being reset. Please set `warm_start=True` if you wish to continue to start a search where you left off.\n",
      "  warnings.warn(\n",
      "e:\\Documents\\Coding\\Repositorios\\MyRepositories\\NewMortalityCurves\\.venv\\Lib\\site-packages\\pysr\\sr.py:1848: UserWarning: Note: Setting `random_state` without also setting `deterministic=True` and `parallelism='serial'` will result in non-deterministic searches.\n",
      "  warnings.warn(\n",
      "e:\\Documents\\Coding\\Repositorios\\MyRepositories\\NewMortalityCurves\\.venv\\Lib\\site-packages\\pysr\\sr.py:2191: UserWarning: The discovered expressions are being reset. Please set `warm_start=True` if you wish to continue to start a search where you left off.\n",
      "  warnings.warn(\n",
      "e:\\Documents\\Coding\\Repositorios\\MyRepositories\\NewMortalityCurves\\.venv\\Lib\\site-packages\\sklearn\\gaussian_process\\kernels.py:442: ConvergenceWarning: The optimal value found for dimension 0 of parameter k2__constant_value is close to the specified lower bound 1e-05. Decreasing the bound and calling fit again may find a better value.\n",
      "  warnings.warn(\n",
      "e:\\Documents\\Coding\\Repositorios\\MyRepositories\\NewMortalityCurves\\.venv\\Lib\\site-packages\\pysr\\sr.py:1848: UserWarning: Note: Setting `random_state` without also setting `deterministic=True` and `parallelism='serial'` will result in non-deterministic searches.\n",
      "  warnings.warn(\n",
      "e:\\Documents\\Coding\\Repositorios\\MyRepositories\\NewMortalityCurves\\.venv\\Lib\\site-packages\\pysr\\sr.py:2191: UserWarning: The discovered expressions are being reset. Please set `warm_start=True` if you wish to continue to start a search where you left off.\n",
      "  warnings.warn(\n",
      "e:\\Documents\\Coding\\Repositorios\\MyRepositories\\NewMortalityCurves\\.venv\\Lib\\site-packages\\pysr\\sr.py:1848: UserWarning: Note: Setting `random_state` without also setting `deterministic=True` and `parallelism='serial'` will result in non-deterministic searches.\n",
      "  warnings.warn(\n",
      "e:\\Documents\\Coding\\Repositorios\\MyRepositories\\NewMortalityCurves\\.venv\\Lib\\site-packages\\pysr\\sr.py:2191: UserWarning: The discovered expressions are being reset. Please set `warm_start=True` if you wish to continue to start a search where you left off.\n",
      "  warnings.warn(\n",
      "e:\\Documents\\Coding\\Repositorios\\MyRepositories\\NewMortalityCurves\\.venv\\Lib\\site-packages\\pysr\\sr.py:1848: UserWarning: Note: Setting `random_state` without also setting `deterministic=True` and `parallelism='serial'` will result in non-deterministic searches.\n",
      "  warnings.warn(\n",
      "e:\\Documents\\Coding\\Repositorios\\MyRepositories\\NewMortalityCurves\\.venv\\Lib\\site-packages\\optuna\\distributions.py:515: UserWarning: Choices for a categorical distribution should be a tuple of None, bool, int, float and str for persistent storage but contains ['+', '-'] which is of type list.\n",
      "  warnings.warn(message)\n",
      "e:\\Documents\\Coding\\Repositorios\\MyRepositories\\NewMortalityCurves\\.venv\\Lib\\site-packages\\optuna\\distributions.py:515: UserWarning: Choices for a categorical distribution should be a tuple of None, bool, int, float and str for persistent storage but contains ['+', '-', '*'] which is of type list.\n",
      "  warnings.warn(message)\n",
      "e:\\Documents\\Coding\\Repositorios\\MyRepositories\\NewMortalityCurves\\.venv\\Lib\\site-packages\\optuna\\distributions.py:515: UserWarning: Choices for a categorical distribution should be a tuple of None, bool, int, float and str for persistent storage but contains ['+', '-', '/'] which is of type list.\n",
      "  warnings.warn(message)\n",
      "e:\\Documents\\Coding\\Repositorios\\MyRepositories\\NewMortalityCurves\\.venv\\Lib\\site-packages\\optuna\\distributions.py:515: UserWarning: Choices for a categorical distribution should be a tuple of None, bool, int, float and str for persistent storage but contains ['+', '-', '*', '/'] which is of type list.\n",
      "  warnings.warn(message)\n",
      "e:\\Documents\\Coding\\Repositorios\\MyRepositories\\NewMortalityCurves\\.venv\\Lib\\site-packages\\optuna\\distributions.py:515: UserWarning: Choices for a categorical distribution should be a tuple of None, bool, int, float and str for persistent storage but contains ['exp'] which is of type list.\n",
      "  warnings.warn(message)\n",
      "e:\\Documents\\Coding\\Repositorios\\MyRepositories\\NewMortalityCurves\\.venv\\Lib\\site-packages\\optuna\\distributions.py:515: UserWarning: Choices for a categorical distribution should be a tuple of None, bool, int, float and str for persistent storage but contains ['exp', 'exp_neg(x) = exp(-x)'] which is of type list.\n",
      "  warnings.warn(message)\n",
      "e:\\Documents\\Coding\\Repositorios\\MyRepositories\\NewMortalityCurves\\.venv\\Lib\\site-packages\\optuna\\distributions.py:515: UserWarning: Choices for a categorical distribution should be a tuple of None, bool, int, float and str for persistent storage but contains ['exp', 'square'] which is of type list.\n",
      "  warnings.warn(message)\n",
      "e:\\Documents\\Coding\\Repositorios\\MyRepositories\\NewMortalityCurves\\.venv\\Lib\\site-packages\\optuna\\distributions.py:515: UserWarning: Choices for a categorical distribution should be a tuple of None, bool, int, float and str for persistent storage but contains ['exp', 'square', 'cube'] which is of type list.\n",
      "  warnings.warn(message)\n",
      "e:\\Documents\\Coding\\Repositorios\\MyRepositories\\NewMortalityCurves\\.venv\\Lib\\site-packages\\optuna\\distributions.py:515: UserWarning: Choices for a categorical distribution should be a tuple of None, bool, int, float and str for persistent storage but contains ['exp', 'sqrt'] which is of type list.\n",
      "  warnings.warn(message)\n",
      "e:\\Documents\\Coding\\Repositorios\\MyRepositories\\NewMortalityCurves\\.venv\\Lib\\site-packages\\optuna\\distributions.py:515: UserWarning: Choices for a categorical distribution should be a tuple of None, bool, int, float and str for persistent storage but contains ['exp', 'inv'] which is of type list.\n",
      "  warnings.warn(message)\n",
      "e:\\Documents\\Coding\\Repositorios\\MyRepositories\\NewMortalityCurves\\.venv\\Lib\\site-packages\\optuna\\distributions.py:515: UserWarning: Choices for a categorical distribution should be a tuple of None, bool, int, float and str for persistent storage but contains ['exp', 'abs'] which is of type list.\n",
      "  warnings.warn(message)\n",
      "[I 2025-04-27 20:10:55,261] Trial 1 finished with values: [0.21217562352604782, 0.20579006966945657, 0.013267016790179758, 0.0029104470850006853, 0.034531586436239305] and parameters: {'population_size': 55, 'populations': 49, 'niterations': 456, 'parsimony': 0.0019208984574494764, 'adaptive_parsimony_scaling': 1801.3006739681143, 'binary_operators': ['+', '-', '*', '/'], 'unary_operators': ['exp', 'sqrt'], 'maxsize': 15, 'denoise': 'False'}.\n",
      "e:\\Documents\\Coding\\Repositorios\\MyRepositories\\NewMortalityCurves\\.venv\\Lib\\site-packages\\pysr\\sr.py:1848: UserWarning: Note: Setting `random_state` without also setting `deterministic=True` and `parallelism='serial'` will result in non-deterministic searches.\n",
      "  warnings.warn(\n",
      "e:\\Documents\\Coding\\Repositorios\\MyRepositories\\NewMortalityCurves\\.venv\\Lib\\site-packages\\pysr\\sr.py:2191: UserWarning: The discovered expressions are being reset. Please set `warm_start=True` if you wish to continue to start a search where you left off.\n",
      "  warnings.warn(\n",
      "e:\\Documents\\Coding\\Repositorios\\MyRepositories\\NewMortalityCurves\\.venv\\Lib\\site-packages\\pysr\\sr.py:1848: UserWarning: Note: Setting `random_state` without also setting `deterministic=True` and `parallelism='serial'` will result in non-deterministic searches.\n",
      "  warnings.warn(\n",
      "e:\\Documents\\Coding\\Repositorios\\MyRepositories\\NewMortalityCurves\\.venv\\Lib\\site-packages\\pysr\\sr.py:2191: UserWarning: The discovered expressions are being reset. Please set `warm_start=True` if you wish to continue to start a search where you left off.\n",
      "  warnings.warn(\n",
      "e:\\Documents\\Coding\\Repositorios\\MyRepositories\\NewMortalityCurves\\.venv\\Lib\\site-packages\\sklearn\\gaussian_process\\kernels.py:442: ConvergenceWarning: The optimal value found for dimension 0 of parameter k2__constant_value is close to the specified lower bound 1e-05. Decreasing the bound and calling fit again may find a better value.\n",
      "  warnings.warn(\n",
      "e:\\Documents\\Coding\\Repositorios\\MyRepositories\\NewMortalityCurves\\.venv\\Lib\\site-packages\\pysr\\sr.py:1848: UserWarning: Note: Setting `random_state` without also setting `deterministic=True` and `parallelism='serial'` will result in non-deterministic searches.\n",
      "  warnings.warn(\n",
      "e:\\Documents\\Coding\\Repositorios\\MyRepositories\\NewMortalityCurves\\.venv\\Lib\\site-packages\\pysr\\sr.py:2191: UserWarning: The discovered expressions are being reset. Please set `warm_start=True` if you wish to continue to start a search where you left off.\n",
      "  warnings.warn(\n",
      "e:\\Documents\\Coding\\Repositorios\\MyRepositories\\NewMortalityCurves\\.venv\\Lib\\site-packages\\pysr\\sr.py:1848: UserWarning: Note: Setting `random_state` without also setting `deterministic=True` and `parallelism='serial'` will result in non-deterministic searches.\n",
      "  warnings.warn(\n",
      "e:\\Documents\\Coding\\Repositorios\\MyRepositories\\NewMortalityCurves\\.venv\\Lib\\site-packages\\pysr\\sr.py:2191: UserWarning: The discovered expressions are being reset. Please set `warm_start=True` if you wish to continue to start a search where you left off.\n",
      "  warnings.warn(\n",
      "e:\\Documents\\Coding\\Repositorios\\MyRepositories\\NewMortalityCurves\\.venv\\Lib\\site-packages\\pysr\\sr.py:1848: UserWarning: Note: Setting `random_state` without also setting `deterministic=True` and `parallelism='serial'` will result in non-deterministic searches.\n",
      "  warnings.warn(\n",
      "e:\\Documents\\Coding\\Repositorios\\MyRepositories\\NewMortalityCurves\\.venv\\Lib\\site-packages\\optuna\\distributions.py:515: UserWarning: Choices for a categorical distribution should be a tuple of None, bool, int, float and str for persistent storage but contains ['+', '-'] which is of type list.\n",
      "  warnings.warn(message)\n",
      "e:\\Documents\\Coding\\Repositorios\\MyRepositories\\NewMortalityCurves\\.venv\\Lib\\site-packages\\optuna\\distributions.py:515: UserWarning: Choices for a categorical distribution should be a tuple of None, bool, int, float and str for persistent storage but contains ['+', '-', '*'] which is of type list.\n",
      "  warnings.warn(message)\n",
      "e:\\Documents\\Coding\\Repositorios\\MyRepositories\\NewMortalityCurves\\.venv\\Lib\\site-packages\\optuna\\distributions.py:515: UserWarning: Choices for a categorical distribution should be a tuple of None, bool, int, float and str for persistent storage but contains ['+', '-', '/'] which is of type list.\n",
      "  warnings.warn(message)\n",
      "e:\\Documents\\Coding\\Repositorios\\MyRepositories\\NewMortalityCurves\\.venv\\Lib\\site-packages\\optuna\\distributions.py:515: UserWarning: Choices for a categorical distribution should be a tuple of None, bool, int, float and str for persistent storage but contains ['+', '-', '*', '/'] which is of type list.\n",
      "  warnings.warn(message)\n",
      "e:\\Documents\\Coding\\Repositorios\\MyRepositories\\NewMortalityCurves\\.venv\\Lib\\site-packages\\optuna\\distributions.py:515: UserWarning: Choices for a categorical distribution should be a tuple of None, bool, int, float and str for persistent storage but contains ['exp'] which is of type list.\n",
      "  warnings.warn(message)\n",
      "e:\\Documents\\Coding\\Repositorios\\MyRepositories\\NewMortalityCurves\\.venv\\Lib\\site-packages\\optuna\\distributions.py:515: UserWarning: Choices for a categorical distribution should be a tuple of None, bool, int, float and str for persistent storage but contains ['exp', 'exp_neg(x) = exp(-x)'] which is of type list.\n",
      "  warnings.warn(message)\n",
      "e:\\Documents\\Coding\\Repositorios\\MyRepositories\\NewMortalityCurves\\.venv\\Lib\\site-packages\\optuna\\distributions.py:515: UserWarning: Choices for a categorical distribution should be a tuple of None, bool, int, float and str for persistent storage but contains ['exp', 'square'] which is of type list.\n",
      "  warnings.warn(message)\n",
      "e:\\Documents\\Coding\\Repositorios\\MyRepositories\\NewMortalityCurves\\.venv\\Lib\\site-packages\\optuna\\distributions.py:515: UserWarning: Choices for a categorical distribution should be a tuple of None, bool, int, float and str for persistent storage but contains ['exp', 'square', 'cube'] which is of type list.\n",
      "  warnings.warn(message)\n",
      "e:\\Documents\\Coding\\Repositorios\\MyRepositories\\NewMortalityCurves\\.venv\\Lib\\site-packages\\optuna\\distributions.py:515: UserWarning: Choices for a categorical distribution should be a tuple of None, bool, int, float and str for persistent storage but contains ['exp', 'sqrt'] which is of type list.\n",
      "  warnings.warn(message)\n",
      "e:\\Documents\\Coding\\Repositorios\\MyRepositories\\NewMortalityCurves\\.venv\\Lib\\site-packages\\optuna\\distributions.py:515: UserWarning: Choices for a categorical distribution should be a tuple of None, bool, int, float and str for persistent storage but contains ['exp', 'inv'] which is of type list.\n",
      "  warnings.warn(message)\n",
      "e:\\Documents\\Coding\\Repositorios\\MyRepositories\\NewMortalityCurves\\.venv\\Lib\\site-packages\\optuna\\distributions.py:515: UserWarning: Choices for a categorical distribution should be a tuple of None, bool, int, float and str for persistent storage but contains ['exp', 'abs'] which is of type list.\n",
      "  warnings.warn(message)\n",
      "[I 2025-04-27 20:19:57,965] Trial 2 finished with values: [0.20752234037142794, 0.4026064570331468, 0.08595190859148696, 0.0028457905635023233, 0.354591233777072] and parameters: {'population_size': 52, 'populations': 185, 'niterations': 163, 'parsimony': 0.0010735864354243087, 'adaptive_parsimony_scaling': 1261.1358983246082, 'binary_operators': ['+', '-'], 'unary_operators': ['exp', 'square'], 'maxsize': 10, 'denoise': 'False'}.\n"
     ]
    },
    {
     "name": "stdout",
     "output_type": "stream",
     "text": [
      "Number of Pareto-optimal trials: 3\n"
     ]
    }
   ],
   "source": [
    "import numpy as np\n",
    "from sklearn.metrics import mean_squared_error\n",
    "import optuna\n",
    "from optuna.samplers import NSGAIIISampler\n",
    "from pysr import PySRRegressor\n",
    "import sympy as smp\n",
    "\n",
    "# Assume you have 5 datasets in lists Xs and Ys\n",
    "Xs = [X1, X2, X3, X4, X5]\n",
    "Ys = [y1, y2, y3, y4, y5]\n",
    "\n",
    "\n",
    "def objective(trial):\n",
    "    binary_operators_comb = [\n",
    "        [\"+\", \"-\"],\n",
    "        [\"+\", \"-\", \"*\"],\n",
    "        [\"+\", \"-\", \"/\"],\n",
    "        [\"+\", \"-\", \"*\", \"/\"]\n",
    "    ]\n",
    "\n",
    "    unary_operators_comb = [\n",
    "        [\"exp\"],\n",
    "        [\"exp\", \"exp_neg(x) = exp(-x)\"],\n",
    "        [\"exp\", \"square\"],\n",
    "        [\"exp\", \"square\", \"cube\"],\n",
    "        [\"exp\", \"sqrt\"],\n",
    "        [\"exp\", \"inv\"],\n",
    "        [\"exp\", \"abs\"]\n",
    "    ]\n",
    "\n",
    "    denoise_comb = [\"False\", \"True\"]\n",
    "\n",
    "    # Suggest shared hyperparameters\n",
    "    pop_size = trial.suggest_int(\"population_size\", 20, 200)\n",
    "    populations = trial.suggest_int(\"populations\", 20, 300)\n",
    "    n_iters = trial.suggest_int(\"niterations\", 10, 500)\n",
    "    parsimony = trial.suggest_float(\"parsimony\", 1e-4, 1e-1, log=True)\n",
    "    adaptive_parsimony_scaling = trial.suggest_float(\"adaptive_parsimony_scaling\", 1000, 2000)\n",
    "    binary_operators = trial.suggest_categorical(\"binary_operators\", binary_operators_comb)\n",
    "    unary_operators = trial.suggest_categorical(\"unary_operators\", unary_operators_comb)\n",
    "    maxsize = trial.suggest_int(\"maxsize\", 10, 70)\n",
    "    denoise = trial.suggest_categorical(\"denoise\", denoise_comb)\n",
    "\n",
    "\n",
    "    # Instantiate PySR with these hyperparameters\n",
    "    model = PySRRegressor(\n",
    "        random_state=42,\n",
    "        # deterministic=True,\n",
    "        # parallelism=\"serial\",\n",
    "        verbosity=0,\n",
    "        progress=False,\n",
    "        temp_equation_file=True,\n",
    "        delete_tempfiles=True,\n",
    "        population_size=pop_size,\n",
    "        niterations=n_iters,\n",
    "        parsimony=parsimony,\n",
    "        binary_operators=binary_operators,\n",
    "        unary_operators=unary_operators,\n",
    "        denoise=denoise,\n",
    "        populations=populations,\n",
    "        adaptive_parsimony_scaling=adaptive_parsimony_scaling,\n",
    "        maxsize=maxsize,\n",
    "        extra_sympy_mappings={\n",
    "            \"exp_neg\": lambda x: smp.exp(-x)\n",
    "        },\n",
    "        timeout_in_seconds=1200\n",
    "    )\n",
    "\n",
    "    # Compute MSE on each dataset\n",
    "    losses = []\n",
    "    for X, y in zip(Xs, Ys):\n",
    "        model.fit(X, y)\n",
    "        losses.append(mean_squared_error(y, model.predict(X)))\n",
    "\n",
    "    # Return a tuple of five objectives (one per dataset)\n",
    "    return tuple(losses)\n",
    "\n",
    "# Create a multi-objective study for 5 minimization tasks\n",
    "study = optuna.create_study(\n",
    "    storage = \"sqlite:///db.sqlite4\",\n",
    "    study_name = \"pysr_Pareto_III_full_params3-test_study\",\n",
    "    directions=[\"minimize\"] * 5,\n",
    "    sampler=NSGAIIISampler()\n",
    ")\n",
    "\n",
    "# Run 100 trials of the genetic algorithm\n",
    "study.optimize(objective, timeout=1200)\n",
    "\n",
    "# Retrieve the Pareto front trials\n",
    "pareto_trials = study.best_trials\n",
    "print(\"Number of Pareto-optimal trials:\", len(pareto_trials))\n"
   ]
  },
  {
   "cell_type": "code",
   "execution_count": null,
   "id": "eac91646",
   "metadata": {},
   "outputs": [],
   "source": []
  },
  {
   "cell_type": "code",
   "execution_count": 11,
   "id": "966200e0",
   "metadata": {},
   "outputs": [
    {
     "data": {
      "text/plain": [
       "{'population_size': 55,\n",
       " 'populations': 49,\n",
       " 'niterations': 456,\n",
       " 'parsimony': 0.0019208984574494764,\n",
       " 'adaptive_parsimony_scaling': 1801.3006739681143,\n",
       " 'binary_operators': ['+', '-', '*', '/'],\n",
       " 'unary_operators': ['exp', 'sqrt'],\n",
       " 'maxsize': 15,\n",
       " 'denoise': 'False'}"
      ]
     },
     "execution_count": 11,
     "metadata": {},
     "output_type": "execute_result"
    }
   ],
   "source": [
    "study.best_trials[1].params"
   ]
  },
  {
   "cell_type": "code",
   "execution_count": 13,
   "id": "9a7162e0",
   "metadata": {},
   "outputs": [],
   "source": [
    "import pickle\n",
    "\n",
    "with open(\"test_pareto_study_III.pkl\", \"rb\") as file:\n",
    "    # pickle.dump(study, file)\n",
    "    study = pickle.load(file)\n",
    "    "
   ]
  },
  {
   "cell_type": "code",
   "execution_count": 14,
   "id": "48eadc5d",
   "metadata": {},
   "outputs": [
    {
     "data": {
      "text/plain": [
       "[FrozenTrial(number=0, state=1, values=[0.20164614180977355, 0.198699930160252, 0.010874067896239903, 0.002900096577527691, 0.034309282287740606], datetime_start=datetime.datetime(2025, 4, 27, 16, 45, 14, 325475), datetime_complete=datetime.datetime(2025, 4, 27, 16, 52, 28, 830727), params={'population_size': 314, 'niterations': 54, 'parsimony': 0.002595596720701991}, user_attrs={}, system_attrs={'nsga3:generation': 0}, intermediate_values={}, distributions={'population_size': IntDistribution(high=500, log=False, low=50, step=1), 'niterations': IntDistribution(high=100, log=False, low=10, step=1), 'parsimony': FloatDistribution(high=0.1, log=True, low=0.0001, step=None)}, trial_id=11, value=None),\n",
       " FrozenTrial(number=1, state=1, values=[0.20164614100529488, 0.198699930159693, 0.010874073796885278, 0.0029000965712195443, 0.03430928231042018], datetime_start=datetime.datetime(2025, 4, 27, 16, 52, 29, 285464), datetime_complete=datetime.datetime(2025, 4, 27, 16, 59, 33, 774147), params={'population_size': 227, 'niterations': 57, 'parsimony': 0.000520657623421051}, user_attrs={}, system_attrs={'nsga3:generation': 0}, intermediate_values={}, distributions={'population_size': IntDistribution(high=500, log=False, low=50, step=1), 'niterations': IntDistribution(high=100, log=False, low=10, step=1), 'parsimony': FloatDistribution(high=0.1, log=True, low=0.0001, step=None)}, trial_id=12, value=None)]"
      ]
     },
     "execution_count": 14,
     "metadata": {},
     "output_type": "execute_result"
    }
   ],
   "source": [
    "study.best_trials"
   ]
  },
  {
   "cell_type": "code",
   "execution_count": 7,
   "id": "1a6bfee0",
   "metadata": {},
   "outputs": [
    {
     "data": {
      "application/vnd.plotly.v1+json": {
       "config": {
        "plotlyServerURL": "https://plot.ly"
       },
       "data": [
        {
         "hovertemplate": "%{text}<extra>Trial</extra>",
         "marker": {
          "color": [],
          "colorbar": {
           "title": {
            "text": "Trial"
           }
          },
          "colorscale": [
           [
            0,
            "rgb(247,251,255)"
           ],
           [
            0.125,
            "rgb(222,235,247)"
           ],
           [
            0.25,
            "rgb(198,219,239)"
           ],
           [
            0.375,
            "rgb(158,202,225)"
           ],
           [
            0.5,
            "rgb(107,174,214)"
           ],
           [
            0.625,
            "rgb(66,146,198)"
           ],
           [
            0.75,
            "rgb(33,113,181)"
           ],
           [
            0.875,
            "rgb(8,81,156)"
           ],
           [
            1,
            "rgb(8,48,107)"
           ]
          ],
          "line": {
           "color": "Grey",
           "width": 0.5
          }
         },
         "mode": "markers",
         "showlegend": false,
         "text": [],
         "type": "scatter",
         "x": [],
         "y": []
        },
        {
         "hovertemplate": "%{text}<extra>Best Trial</extra>",
         "marker": {
          "color": [
           0,
           1,
           2
          ],
          "colorbar": {
           "title": {
            "text": "Best Trial"
           },
           "x": 1.1,
           "xpad": 40
          },
          "colorscale": [
           [
            0,
            "rgb(255,245,240)"
           ],
           [
            0.125,
            "rgb(254,224,210)"
           ],
           [
            0.25,
            "rgb(252,187,161)"
           ],
           [
            0.375,
            "rgb(252,146,114)"
           ],
           [
            0.5,
            "rgb(251,106,74)"
           ],
           [
            0.625,
            "rgb(239,59,44)"
           ],
           [
            0.75,
            "rgb(203,24,29)"
           ],
           [
            0.875,
            "rgb(165,15,21)"
           ],
           [
            1,
            "rgb(103,0,13)"
           ]
          ],
          "line": {
           "color": "Grey",
           "width": 0.5
          }
         },
         "mode": "markers",
         "showlegend": false,
         "text": [
          "{<br>  \"number\": 0,<br>  \"values\": [<br>    0.2269207575910452,<br>    0.23964064820803282,<br>    0.009346338465690534,<br>    0.002907458306067242,<br>    0.03658601922756815<br>  ],<br>  \"params\": {<br>    \"population_size\": 92,<br>    \"populations\": 48,<br>    \"niterations\": 292,<br>    \"parsimony\": 0.0010148514204779018,<br>    \"adaptive_parsimony_scaling\": 1064.9435455145317,<br>    \"binary_operators\": [<br>      \"+\",<br>      \"-\",<br>      \"*\"<br>    ],<br>    \"unary_operators\": [<br>      \"exp\"<br>    ],<br>    \"maxsize\": 26,<br>    \"denoise\": \"False\"<br>  }<br>}",
          "{<br>  \"number\": 1,<br>  \"values\": [<br>    0.21217562352604782,<br>    0.20579006966945657,<br>    0.013267016790179758,<br>    0.0029104470850006853,<br>    0.034531586436239305<br>  ],<br>  \"params\": {<br>    \"population_size\": 55,<br>    \"populations\": 49,<br>    \"niterations\": 456,<br>    \"parsimony\": 0.0019208984574494764,<br>    \"adaptive_parsimony_scaling\": 1801.3006739681143,<br>    \"binary_operators\": [<br>      \"+\",<br>      \"-\",<br>      \"*\",<br>      \"/\"<br>    ],<br>    \"unary_operators\": [<br>      \"exp\",<br>      \"sqrt\"<br>    ],<br>    \"maxsize\": 15,<br>    \"denoise\": \"False\"<br>  }<br>}",
          "{<br>  \"number\": 2,<br>  \"values\": [<br>    0.20752234037142794,<br>    0.4026064570331468,<br>    0.08595190859148696,<br>    0.0028457905635023233,<br>    0.354591233777072<br>  ],<br>  \"params\": {<br>    \"population_size\": 52,<br>    \"populations\": 185,<br>    \"niterations\": 163,<br>    \"parsimony\": 0.0010735864354243087,<br>    \"adaptive_parsimony_scaling\": 1261.1358983246082,<br>    \"binary_operators\": [<br>      \"+\",<br>      \"-\"<br>    ],<br>    \"unary_operators\": [<br>      \"exp\",<br>      \"square\"<br>    ],<br>    \"maxsize\": 10,<br>    \"denoise\": \"False\"<br>  }<br>}"
         ],
         "type": "scatter",
         "x": [
          0.2269207575910452,
          0.21217562352604782,
          0.20752234037142794
         ],
         "y": [
          0.23964064820803282,
          0.20579006966945657,
          0.4026064570331468
         ]
        }
       ],
       "layout": {
        "template": {
         "data": {
          "bar": [
           {
            "error_x": {
             "color": "#2a3f5f"
            },
            "error_y": {
             "color": "#2a3f5f"
            },
            "marker": {
             "line": {
              "color": "#E5ECF6",
              "width": 0.5
             },
             "pattern": {
              "fillmode": "overlay",
              "size": 10,
              "solidity": 0.2
             }
            },
            "type": "bar"
           }
          ],
          "barpolar": [
           {
            "marker": {
             "line": {
              "color": "#E5ECF6",
              "width": 0.5
             },
             "pattern": {
              "fillmode": "overlay",
              "size": 10,
              "solidity": 0.2
             }
            },
            "type": "barpolar"
           }
          ],
          "carpet": [
           {
            "aaxis": {
             "endlinecolor": "#2a3f5f",
             "gridcolor": "white",
             "linecolor": "white",
             "minorgridcolor": "white",
             "startlinecolor": "#2a3f5f"
            },
            "baxis": {
             "endlinecolor": "#2a3f5f",
             "gridcolor": "white",
             "linecolor": "white",
             "minorgridcolor": "white",
             "startlinecolor": "#2a3f5f"
            },
            "type": "carpet"
           }
          ],
          "choropleth": [
           {
            "colorbar": {
             "outlinewidth": 0,
             "ticks": ""
            },
            "type": "choropleth"
           }
          ],
          "contour": [
           {
            "colorbar": {
             "outlinewidth": 0,
             "ticks": ""
            },
            "colorscale": [
             [
              0,
              "#0d0887"
             ],
             [
              0.1111111111111111,
              "#46039f"
             ],
             [
              0.2222222222222222,
              "#7201a8"
             ],
             [
              0.3333333333333333,
              "#9c179e"
             ],
             [
              0.4444444444444444,
              "#bd3786"
             ],
             [
              0.5555555555555556,
              "#d8576b"
             ],
             [
              0.6666666666666666,
              "#ed7953"
             ],
             [
              0.7777777777777778,
              "#fb9f3a"
             ],
             [
              0.8888888888888888,
              "#fdca26"
             ],
             [
              1,
              "#f0f921"
             ]
            ],
            "type": "contour"
           }
          ],
          "contourcarpet": [
           {
            "colorbar": {
             "outlinewidth": 0,
             "ticks": ""
            },
            "type": "contourcarpet"
           }
          ],
          "heatmap": [
           {
            "colorbar": {
             "outlinewidth": 0,
             "ticks": ""
            },
            "colorscale": [
             [
              0,
              "#0d0887"
             ],
             [
              0.1111111111111111,
              "#46039f"
             ],
             [
              0.2222222222222222,
              "#7201a8"
             ],
             [
              0.3333333333333333,
              "#9c179e"
             ],
             [
              0.4444444444444444,
              "#bd3786"
             ],
             [
              0.5555555555555556,
              "#d8576b"
             ],
             [
              0.6666666666666666,
              "#ed7953"
             ],
             [
              0.7777777777777778,
              "#fb9f3a"
             ],
             [
              0.8888888888888888,
              "#fdca26"
             ],
             [
              1,
              "#f0f921"
             ]
            ],
            "type": "heatmap"
           }
          ],
          "histogram": [
           {
            "marker": {
             "pattern": {
              "fillmode": "overlay",
              "size": 10,
              "solidity": 0.2
             }
            },
            "type": "histogram"
           }
          ],
          "histogram2d": [
           {
            "colorbar": {
             "outlinewidth": 0,
             "ticks": ""
            },
            "colorscale": [
             [
              0,
              "#0d0887"
             ],
             [
              0.1111111111111111,
              "#46039f"
             ],
             [
              0.2222222222222222,
              "#7201a8"
             ],
             [
              0.3333333333333333,
              "#9c179e"
             ],
             [
              0.4444444444444444,
              "#bd3786"
             ],
             [
              0.5555555555555556,
              "#d8576b"
             ],
             [
              0.6666666666666666,
              "#ed7953"
             ],
             [
              0.7777777777777778,
              "#fb9f3a"
             ],
             [
              0.8888888888888888,
              "#fdca26"
             ],
             [
              1,
              "#f0f921"
             ]
            ],
            "type": "histogram2d"
           }
          ],
          "histogram2dcontour": [
           {
            "colorbar": {
             "outlinewidth": 0,
             "ticks": ""
            },
            "colorscale": [
             [
              0,
              "#0d0887"
             ],
             [
              0.1111111111111111,
              "#46039f"
             ],
             [
              0.2222222222222222,
              "#7201a8"
             ],
             [
              0.3333333333333333,
              "#9c179e"
             ],
             [
              0.4444444444444444,
              "#bd3786"
             ],
             [
              0.5555555555555556,
              "#d8576b"
             ],
             [
              0.6666666666666666,
              "#ed7953"
             ],
             [
              0.7777777777777778,
              "#fb9f3a"
             ],
             [
              0.8888888888888888,
              "#fdca26"
             ],
             [
              1,
              "#f0f921"
             ]
            ],
            "type": "histogram2dcontour"
           }
          ],
          "mesh3d": [
           {
            "colorbar": {
             "outlinewidth": 0,
             "ticks": ""
            },
            "type": "mesh3d"
           }
          ],
          "parcoords": [
           {
            "line": {
             "colorbar": {
              "outlinewidth": 0,
              "ticks": ""
             }
            },
            "type": "parcoords"
           }
          ],
          "pie": [
           {
            "automargin": true,
            "type": "pie"
           }
          ],
          "scatter": [
           {
            "fillpattern": {
             "fillmode": "overlay",
             "size": 10,
             "solidity": 0.2
            },
            "type": "scatter"
           }
          ],
          "scatter3d": [
           {
            "line": {
             "colorbar": {
              "outlinewidth": 0,
              "ticks": ""
             }
            },
            "marker": {
             "colorbar": {
              "outlinewidth": 0,
              "ticks": ""
             }
            },
            "type": "scatter3d"
           }
          ],
          "scattercarpet": [
           {
            "marker": {
             "colorbar": {
              "outlinewidth": 0,
              "ticks": ""
             }
            },
            "type": "scattercarpet"
           }
          ],
          "scattergeo": [
           {
            "marker": {
             "colorbar": {
              "outlinewidth": 0,
              "ticks": ""
             }
            },
            "type": "scattergeo"
           }
          ],
          "scattergl": [
           {
            "marker": {
             "colorbar": {
              "outlinewidth": 0,
              "ticks": ""
             }
            },
            "type": "scattergl"
           }
          ],
          "scattermap": [
           {
            "marker": {
             "colorbar": {
              "outlinewidth": 0,
              "ticks": ""
             }
            },
            "type": "scattermap"
           }
          ],
          "scattermapbox": [
           {
            "marker": {
             "colorbar": {
              "outlinewidth": 0,
              "ticks": ""
             }
            },
            "type": "scattermapbox"
           }
          ],
          "scatterpolar": [
           {
            "marker": {
             "colorbar": {
              "outlinewidth": 0,
              "ticks": ""
             }
            },
            "type": "scatterpolar"
           }
          ],
          "scatterpolargl": [
           {
            "marker": {
             "colorbar": {
              "outlinewidth": 0,
              "ticks": ""
             }
            },
            "type": "scatterpolargl"
           }
          ],
          "scatterternary": [
           {
            "marker": {
             "colorbar": {
              "outlinewidth": 0,
              "ticks": ""
             }
            },
            "type": "scatterternary"
           }
          ],
          "surface": [
           {
            "colorbar": {
             "outlinewidth": 0,
             "ticks": ""
            },
            "colorscale": [
             [
              0,
              "#0d0887"
             ],
             [
              0.1111111111111111,
              "#46039f"
             ],
             [
              0.2222222222222222,
              "#7201a8"
             ],
             [
              0.3333333333333333,
              "#9c179e"
             ],
             [
              0.4444444444444444,
              "#bd3786"
             ],
             [
              0.5555555555555556,
              "#d8576b"
             ],
             [
              0.6666666666666666,
              "#ed7953"
             ],
             [
              0.7777777777777778,
              "#fb9f3a"
             ],
             [
              0.8888888888888888,
              "#fdca26"
             ],
             [
              1,
              "#f0f921"
             ]
            ],
            "type": "surface"
           }
          ],
          "table": [
           {
            "cells": {
             "fill": {
              "color": "#EBF0F8"
             },
             "line": {
              "color": "white"
             }
            },
            "header": {
             "fill": {
              "color": "#C8D4E3"
             },
             "line": {
              "color": "white"
             }
            },
            "type": "table"
           }
          ]
         },
         "layout": {
          "annotationdefaults": {
           "arrowcolor": "#2a3f5f",
           "arrowhead": 0,
           "arrowwidth": 1
          },
          "autotypenumbers": "strict",
          "coloraxis": {
           "colorbar": {
            "outlinewidth": 0,
            "ticks": ""
           }
          },
          "colorscale": {
           "diverging": [
            [
             0,
             "#8e0152"
            ],
            [
             0.1,
             "#c51b7d"
            ],
            [
             0.2,
             "#de77ae"
            ],
            [
             0.3,
             "#f1b6da"
            ],
            [
             0.4,
             "#fde0ef"
            ],
            [
             0.5,
             "#f7f7f7"
            ],
            [
             0.6,
             "#e6f5d0"
            ],
            [
             0.7,
             "#b8e186"
            ],
            [
             0.8,
             "#7fbc41"
            ],
            [
             0.9,
             "#4d9221"
            ],
            [
             1,
             "#276419"
            ]
           ],
           "sequential": [
            [
             0,
             "#0d0887"
            ],
            [
             0.1111111111111111,
             "#46039f"
            ],
            [
             0.2222222222222222,
             "#7201a8"
            ],
            [
             0.3333333333333333,
             "#9c179e"
            ],
            [
             0.4444444444444444,
             "#bd3786"
            ],
            [
             0.5555555555555556,
             "#d8576b"
            ],
            [
             0.6666666666666666,
             "#ed7953"
            ],
            [
             0.7777777777777778,
             "#fb9f3a"
            ],
            [
             0.8888888888888888,
             "#fdca26"
            ],
            [
             1,
             "#f0f921"
            ]
           ],
           "sequentialminus": [
            [
             0,
             "#0d0887"
            ],
            [
             0.1111111111111111,
             "#46039f"
            ],
            [
             0.2222222222222222,
             "#7201a8"
            ],
            [
             0.3333333333333333,
             "#9c179e"
            ],
            [
             0.4444444444444444,
             "#bd3786"
            ],
            [
             0.5555555555555556,
             "#d8576b"
            ],
            [
             0.6666666666666666,
             "#ed7953"
            ],
            [
             0.7777777777777778,
             "#fb9f3a"
            ],
            [
             0.8888888888888888,
             "#fdca26"
            ],
            [
             1,
             "#f0f921"
            ]
           ]
          },
          "colorway": [
           "#636efa",
           "#EF553B",
           "#00cc96",
           "#ab63fa",
           "#FFA15A",
           "#19d3f3",
           "#FF6692",
           "#B6E880",
           "#FF97FF",
           "#FECB52"
          ],
          "font": {
           "color": "#2a3f5f"
          },
          "geo": {
           "bgcolor": "white",
           "lakecolor": "white",
           "landcolor": "#E5ECF6",
           "showlakes": true,
           "showland": true,
           "subunitcolor": "white"
          },
          "hoverlabel": {
           "align": "left"
          },
          "hovermode": "closest",
          "mapbox": {
           "style": "light"
          },
          "paper_bgcolor": "white",
          "plot_bgcolor": "#E5ECF6",
          "polar": {
           "angularaxis": {
            "gridcolor": "white",
            "linecolor": "white",
            "ticks": ""
           },
           "bgcolor": "#E5ECF6",
           "radialaxis": {
            "gridcolor": "white",
            "linecolor": "white",
            "ticks": ""
           }
          },
          "scene": {
           "xaxis": {
            "backgroundcolor": "#E5ECF6",
            "gridcolor": "white",
            "gridwidth": 2,
            "linecolor": "white",
            "showbackground": true,
            "ticks": "",
            "zerolinecolor": "white"
           },
           "yaxis": {
            "backgroundcolor": "#E5ECF6",
            "gridcolor": "white",
            "gridwidth": 2,
            "linecolor": "white",
            "showbackground": true,
            "ticks": "",
            "zerolinecolor": "white"
           },
           "zaxis": {
            "backgroundcolor": "#E5ECF6",
            "gridcolor": "white",
            "gridwidth": 2,
            "linecolor": "white",
            "showbackground": true,
            "ticks": "",
            "zerolinecolor": "white"
           }
          },
          "shapedefaults": {
           "line": {
            "color": "#2a3f5f"
           }
          },
          "ternary": {
           "aaxis": {
            "gridcolor": "white",
            "linecolor": "white",
            "ticks": ""
           },
           "baxis": {
            "gridcolor": "white",
            "linecolor": "white",
            "ticks": ""
           },
           "bgcolor": "#E5ECF6",
           "caxis": {
            "gridcolor": "white",
            "linecolor": "white",
            "ticks": ""
           }
          },
          "title": {
           "x": 0.05
          },
          "xaxis": {
           "automargin": true,
           "gridcolor": "white",
           "linecolor": "white",
           "ticks": "",
           "title": {
            "standoff": 15
           },
           "zerolinecolor": "white",
           "zerolinewidth": 2
          },
          "yaxis": {
           "automargin": true,
           "gridcolor": "white",
           "linecolor": "white",
           "ticks": "",
           "title": {
            "standoff": 15
           },
           "zerolinecolor": "white",
           "zerolinewidth": 2
          }
         }
        },
        "title": {
         "text": "Pareto-front Plot"
        },
        "xaxis": {
         "title": {
          "text": "Objective 0"
         }
        },
        "yaxis": {
         "title": {
          "text": "Objective 1"
         }
        }
       }
      }
     },
     "metadata": {},
     "output_type": "display_data"
    }
   ],
   "source": [
    "optuna.visualization.plot_pareto_front(study, \n",
    "    targets=lambda t: (t.values[0], t.values[1]),\n",
    "    target_names=[\"Objective 0\", \"Objective 1\"]\n",
    ")"
   ]
  },
  {
   "cell_type": "code",
   "execution_count": 9,
   "id": "b455941b",
   "metadata": {},
   "outputs": [
    {
     "name": "stdout",
     "output_type": "stream",
     "text": [
      "Best by hypervolume contribution: 1\n",
      "Best by knee detection: [[1 0 2]]\n"
     ]
    }
   ],
   "source": [
    "import numpy as np\n",
    "from pymoo.indicators.hv import Hypervolume\n",
    "from kneed import KneeLocator\n",
    "\n",
    "# Suppose `pareto_vals` is your (n_points × 5) NumPy array of objective values\n",
    "pareto_vals = np.array([t.values for t in study.best_trials])  # shape (n_points, 5)\n",
    "\n",
    "# 1. Normalize objectives to [0,1]\n",
    "ideal = pareto_vals.min(axis=0)\n",
    "nadir = pareto_vals.max(axis=0)\n",
    "norm = (pareto_vals - ideal) / (nadir - ideal + 1e-12)\n",
    "\n",
    "# 2. Hypervolume contribution\n",
    "ref_point = np.ones(5)  # reference outside normalized front\n",
    "hv_func = Hypervolume(ref_point=ref_point)\n",
    "hv_all = hv_func(norm)\n",
    "# compute contribution for each point\n",
    "contr = np.zeros(norm.shape[0])\n",
    "for i in range(norm.shape[0]):\n",
    "    mask = np.arange(norm.shape[0]) != i\n",
    "    contr[i] = hv_all - hv_func(norm[mask])\n",
    "best_hv_idx = np.argmax(contr)\n",
    "\n",
    "# 3. Knee detection on sorted Manhattan distances\n",
    "manh = np.sum(norm, axis=1)\n",
    "sorted_idx = np.argsort(manh)\n",
    "sorted_manh = manh[sorted_idx]\n",
    "kl = KneeLocator(\n",
    "    x=list(range(len(sorted_manh))),\n",
    "    y=sorted_manh.tolist(),\n",
    "    curve=\"concave\",\n",
    "    direction=\"increasing\"\n",
    ")\n",
    "knee_rank = kl.knee  # index in sorted list\n",
    "best_knee_idx = sorted_idx[knee_rank]\n",
    "\n",
    "\n",
    "# 5. Aggregate or compare\n",
    "print(\"Best by hypervolume contribution:\", best_hv_idx)\n",
    "print(\"Best by knee detection:\", best_knee_idx)\n"
   ]
  },
  {
   "cell_type": "code",
   "execution_count": 8,
   "id": "93ca1fcd",
   "metadata": {},
   "outputs": [
    {
     "data": {
      "text/plain": [
       "array([0.20164644, 0.19869993, 0.00941338, 0.0029001 , 0.03430928])"
      ]
     },
     "execution_count": 8,
     "metadata": {},
     "output_type": "execute_result"
    }
   ],
   "source": [
    "pareto_vals[2]"
   ]
  },
  {
   "cell_type": "markdown",
   "id": "2f617f1b",
   "metadata": {},
   "source": [
    "# Actual Mortality Data"
   ]
  },
  {
   "cell_type": "code",
   "execution_count": 139,
   "id": "e06b41aa",
   "metadata": {},
   "outputs": [],
   "source": [
    "countries = [\"USA\", \"Australia\", \"Japan\", \"France\", \"Russia\", \"Chile\"]"
   ]
  },
  {
   "cell_type": "code",
   "execution_count": 143,
   "id": "9169b53f",
   "metadata": {},
   "outputs": [
    {
     "data": {
      "text/html": [
       "<div>\n",
       "<style scoped>\n",
       "    .dataframe tbody tr th:only-of-type {\n",
       "        vertical-align: middle;\n",
       "    }\n",
       "\n",
       "    .dataframe tbody tr th {\n",
       "        vertical-align: top;\n",
       "    }\n",
       "\n",
       "    .dataframe thead th {\n",
       "        text-align: right;\n",
       "    }\n",
       "</style>\n",
       "<table border=\"1\" class=\"dataframe\">\n",
       "  <thead>\n",
       "    <tr style=\"text-align: right;\">\n",
       "      <th></th>\n",
       "      <th>Year</th>\n",
       "      <th>Age</th>\n",
       "      <th>Female</th>\n",
       "      <th>Male</th>\n",
       "      <th>Total</th>\n",
       "      <th>Country</th>\n",
       "    </tr>\n",
       "  </thead>\n",
       "  <tbody>\n",
       "    <tr>\n",
       "      <th>0</th>\n",
       "      <td>1933</td>\n",
       "      <td>0</td>\n",
       "      <td>0.061292</td>\n",
       "      <td>0.061292</td>\n",
       "      <td>0.061292</td>\n",
       "      <td>USA</td>\n",
       "    </tr>\n",
       "    <tr>\n",
       "      <th>1</th>\n",
       "      <td>1933</td>\n",
       "      <td>1</td>\n",
       "      <td>0.009459</td>\n",
       "      <td>0.009459</td>\n",
       "      <td>0.009459</td>\n",
       "      <td>USA</td>\n",
       "    </tr>\n",
       "    <tr>\n",
       "      <th>2</th>\n",
       "      <td>1933</td>\n",
       "      <td>2</td>\n",
       "      <td>0.004351</td>\n",
       "      <td>0.004351</td>\n",
       "      <td>0.004351</td>\n",
       "      <td>USA</td>\n",
       "    </tr>\n",
       "    <tr>\n",
       "      <th>3</th>\n",
       "      <td>1933</td>\n",
       "      <td>3</td>\n",
       "      <td>0.003104</td>\n",
       "      <td>0.003104</td>\n",
       "      <td>0.003104</td>\n",
       "      <td>USA</td>\n",
       "    </tr>\n",
       "    <tr>\n",
       "      <th>4</th>\n",
       "      <td>1933</td>\n",
       "      <td>4</td>\n",
       "      <td>0.002386</td>\n",
       "      <td>0.002386</td>\n",
       "      <td>0.002386</td>\n",
       "      <td>USA</td>\n",
       "    </tr>\n",
       "    <tr>\n",
       "      <th>...</th>\n",
       "      <td>...</td>\n",
       "      <td>...</td>\n",
       "      <td>...</td>\n",
       "      <td>...</td>\n",
       "      <td>...</td>\n",
       "      <td>...</td>\n",
       "    </tr>\n",
       "    <tr>\n",
       "      <th>3214</th>\n",
       "      <td>2020</td>\n",
       "      <td>106</td>\n",
       "      <td>0.677201</td>\n",
       "      <td>0.677201</td>\n",
       "      <td>0.677201</td>\n",
       "      <td>Chile</td>\n",
       "    </tr>\n",
       "    <tr>\n",
       "      <th>3215</th>\n",
       "      <td>2020</td>\n",
       "      <td>107</td>\n",
       "      <td>0.482412</td>\n",
       "      <td>0.482412</td>\n",
       "      <td>0.482412</td>\n",
       "      <td>Chile</td>\n",
       "    </tr>\n",
       "    <tr>\n",
       "      <th>3216</th>\n",
       "      <td>2020</td>\n",
       "      <td>108</td>\n",
       "      <td>0.395691</td>\n",
       "      <td>0.395691</td>\n",
       "      <td>0.395691</td>\n",
       "      <td>Chile</td>\n",
       "    </tr>\n",
       "    <tr>\n",
       "      <th>3217</th>\n",
       "      <td>2020</td>\n",
       "      <td>109</td>\n",
       "      <td>0.578685</td>\n",
       "      <td>0.578685</td>\n",
       "      <td>0.578685</td>\n",
       "      <td>Chile</td>\n",
       "    </tr>\n",
       "    <tr>\n",
       "      <th>3218</th>\n",
       "      <td>2020</td>\n",
       "      <td>110</td>\n",
       "      <td>0.695451</td>\n",
       "      <td>0.695451</td>\n",
       "      <td>0.695451</td>\n",
       "      <td>Chile</td>\n",
       "    </tr>\n",
       "  </tbody>\n",
       "</table>\n",
       "<p>61320 rows × 6 columns</p>\n",
       "</div>"
      ],
      "text/plain": [
       "      Year  Age    Female      Male     Total Country\n",
       "0     1933    0  0.061292  0.061292  0.061292     USA\n",
       "1     1933    1  0.009459  0.009459  0.009459     USA\n",
       "2     1933    2  0.004351  0.004351  0.004351     USA\n",
       "3     1933    3  0.003104  0.003104  0.003104     USA\n",
       "4     1933    4  0.002386  0.002386  0.002386     USA\n",
       "...    ...  ...       ...       ...       ...     ...\n",
       "3214  2020  106  0.677201  0.677201  0.677201   Chile\n",
       "3215  2020  107  0.482412  0.482412  0.482412   Chile\n",
       "3216  2020  108  0.395691  0.395691  0.395691   Chile\n",
       "3217  2020  109  0.578685  0.578685  0.578685   Chile\n",
       "3218  2020  110  0.695451  0.695451  0.695451   Chile\n",
       "\n",
       "[61320 rows x 6 columns]"
      ]
     },
     "execution_count": 143,
     "metadata": {},
     "output_type": "execute_result"
    }
   ],
   "source": [
    "full_data = []\n",
    "for country in countries:\n",
    "    true_data = pd.read_csv(f\"../RealData/data/{country}-Mx_1x1.txt\", sep=r'\\s+')\n",
    "    true_data[\"Age\"] = true_data[\"Age\"].map(lambda x: 110 if x == \"110+\" else x)\n",
    "    true_data.Age = true_data.Age.astype(\"int\")\n",
    "\n",
    "    columns_to_clean = [\"Total\", \"Male\", \"Female\"]\n",
    "    for column in columns_to_clean:\n",
    "        true_data[column] = true_data.Total.replace(\".\", np.nan)\n",
    "        true_data[column] = true_data.Total.replace(\"0.000000\", np.nan)\n",
    "        true_data = true_data.dropna()\n",
    "        true_data[column] = true_data[column].astype(\"float\")\n",
    "\n",
    "    true_data[\"Country\"] = country\n",
    "    full_data.append(true_data)\n",
    "\n",
    "countries_data = pd.concat(full_data)\n",
    "countries_data"
   ]
  },
  {
   "cell_type": "code",
   "execution_count": 146,
   "id": "56f92771",
   "metadata": {},
   "outputs": [],
   "source": [
    "\"\"\"\n",
    "- Australia: 2021\n",
    "- Russia: 2014\n",
    "- Japan: 1988\n",
    "- Chile: 2019\n",
    "- France: 1990\n",
    "- USA: 1960\n",
    "\"\"\"\n",
    "\n",
    "HPO_countries = {\n",
    "    \"Australia\": 2021,\n",
    "    \"Russia\": 2014,\n",
    "    \"Japan\": 1988,\n",
    "    \"Chile\": 2019,\n",
    "    \"France\": 1990,\n",
    "    \"USA\": 1960\n",
    "}\n",
    "\n",
    "Xs, Ys = [], []\n",
    "for country, year in HPO_countries.items():\n",
    "    data_ = countries_data[(countries_data.Country == country) & (countries_data.Year == year)]\n",
    "    Xs.append(data_.Age.values)\n",
    "    Ys.append(data_.Total.values)"
   ]
  },
  {
   "cell_type": "code",
   "execution_count": null,
   "id": "c0b1416c",
   "metadata": {},
   "outputs": [],
   "source": [
    "import numpy as np\n",
    "from sklearn.metrics import mean_squared_error\n",
    "import optuna\n",
    "from optuna.samplers import NSGAIIISampler\n",
    "from pysr import PySRRegressor\n",
    "import sympy as smp\n",
    "\n",
    "def objective(trial):\n",
    "    binary_operators_comb = [\n",
    "        [\"+\", \"-\"],\n",
    "        [\"+\", \"-\", \"*\"],\n",
    "        [\"+\", \"-\", \"/\"],\n",
    "        [\"+\", \"-\", \"*\", \"/\"]\n",
    "    ]\n",
    "\n",
    "    unary_operators_comb = [\n",
    "        [\"exp\"],\n",
    "        [\"exp\", \"exp_neg(x) = exp(-x)\"],\n",
    "        [\"exp\", \"square\"],\n",
    "        [\"exp\", \"square\", \"cube\"],\n",
    "        [\"exp\", \"sqrt\"],\n",
    "        [\"exp\", \"inv\"],\n",
    "        [\"exp\", \"abs\"]\n",
    "    ]\n",
    "\n",
    "    denoise_comb = [\"False\", \"True\"]\n",
    "\n",
    "    # Suggest shared hyperparameters\n",
    "    pop_size = trial.suggest_int(\"population_size\", 20, 200)\n",
    "    populations = trial.suggest_int(\"populations\", 20, 300)\n",
    "    n_iters = trial.suggest_int(\"niterations\", 10, 500)\n",
    "    parsimony = trial.suggest_float(\"parsimony\", 1e-4, 1e-1, log=True)\n",
    "    adaptive_parsimony_scaling = trial.suggest_float(\"adaptive_parsimony_scaling\", 1000, 2000)\n",
    "    binary_operators = trial.suggest_categorical(\"binary_operators\", binary_operators_comb)\n",
    "    unary_operators = trial.suggest_categorical(\"unary_operators\", unary_operators_comb)\n",
    "    maxsize = trial.suggest_int(\"maxsize\", 10, 70)\n",
    "    denoise = trial.suggest_categorical(\"denoise\", denoise_comb)\n",
    "\n",
    "\n",
    "    # Instantiate PySR with these hyperparameters\n",
    "    model = PySRRegressor(\n",
    "        random_state=42,\n",
    "        # deterministic=True,\n",
    "        # parallelism=\"serial\",\n",
    "        verbosity=0,\n",
    "        progress=False,\n",
    "        temp_equation_file=True,\n",
    "        delete_tempfiles=True,\n",
    "        population_size=pop_size,\n",
    "        niterations=n_iters,\n",
    "        parsimony=parsimony,\n",
    "        binary_operators=binary_operators,\n",
    "        unary_operators=unary_operators,\n",
    "        denoise=denoise,\n",
    "        populations=populations,\n",
    "        adaptive_parsimony_scaling=adaptive_parsimony_scaling,\n",
    "        maxsize=maxsize,\n",
    "        extra_sympy_mappings={\n",
    "            \"exp_neg\": lambda x: smp.exp(-x)\n",
    "        },\n",
    "        timeout_in_seconds=1200\n",
    "    )\n",
    "\n",
    "    # Compute MSE on each dataset\n",
    "    losses = []\n",
    "    for X, y in zip(Xs, Ys):\n",
    "        model.fit(X, y)\n",
    "        losses.append(mean_squared_error(y, model.predict(X)))\n",
    "\n",
    "    # Return a tuple of five objectives (one per dataset)\n",
    "    return tuple(losses)\n",
    "\n",
    "# Create a multi-objective study for 5 minimization tasks\n",
    "study = optuna.create_study(\n",
    "    storage = \"sqlite:///db.sqlite4\",\n",
    "    study_name = \"pysr_Pareto_III_full_params3-test_study\",\n",
    "    directions=[\"minimize\"] * 5,\n",
    "    sampler=NSGAIIISampler()\n",
    ")\n",
    "\n",
    "# Run 100 trials of the genetic algorithm\n",
    "study.optimize(objective, timeout=1200)\n",
    "\n",
    "# Retrieve the Pareto front trials\n",
    "pareto_trials = study.best_trials\n",
    "print(\"Number of Pareto-optimal trials:\", len(pareto_trials))\n"
   ]
  },
  {
   "cell_type": "code",
   "execution_count": 128,
   "id": "223881ef",
   "metadata": {},
   "outputs": [
    {
     "data": {
      "image/png": "[encoded data removed]",
      "text/plain": [
       "<Figure size 640x480 with 1 Axes>"
      ]
     },
     "metadata": {},
     "output_type": "display_data"
    }
   ],
   "source": [
    "data_ = true_data[true_data.Year == 1996]\n",
    "\n",
    "sns.lineplot(data=data_, x=\"Age\", y=\"Female\")\n",
    "plt.yscale(\"log\")\n",
    "plt.show()"
   ]
  },
  {
   "cell_type": "markdown",
   "id": "2e5de812",
   "metadata": {},
   "source": [
    "- Australia: 2021\n",
    "- Russia: 2014\n",
    "- Japan: 1988\n",
    "- Chile: 2019\n",
    "- France: 1990\n",
    "- USA: 1960"
   ]
  },
  {
   "cell_type": "code",
   "execution_count": null,
   "id": "b5eeba6b",
   "metadata": {},
   "outputs": [],
   "source": [
    "import pandas as pd\n",
    "from dash import Dash, dcc, html, Input, Output\n",
    "import plotly.express as px\n",
    "\n",
    "df = countries_data\n",
    "df.columns = [\"year\", \"age\", \"female\", \"male\", \"total\", \"country\"]\n",
    "\n",
    "app = Dash(__name__)\n",
    "\n",
    "app.layout = html.Div([\n",
    "    html.H1(\"Mortality: Age vs Total\"),\n",
    "    dcc.Dropdown(\n",
    "        id=\"country-dropdown\",\n",
    "        options=[{\"label\": c, \"value\": c} for c in sorted(df[\"country\"].unique())],\n",
    "        value=sorted(df[\"country\"].unique())[0]\n",
    "    ),\n",
    "    dcc.Dropdown(\n",
    "        id=\"year-dropdown\",\n",
    "        options=[{\"label\": y, \"value\": y} for y in sorted(df[\"year\"].unique())],\n",
    "        value=sorted(df[\"year\"].unique())[0]\n",
    "    ),\n",
    "    dcc.Graph(id=\"age-total-line\")\n",
    "])\n",
    "\n",
    "@app.callback(\n",
    "    Output(\"age-total-line\", \"figure\"),\n",
    "    Input(\"country-dropdown\", \"value\"),\n",
    "    Input(\"year-dropdown\", \"value\")\n",
    ")\n",
    "def update_line(country, year):\n",
    "    # Filter DataFrame\n",
    "    dff = df[(df[\"country\"] == country) & (df[\"year\"] == year)]\n",
    "    dff.total = np.log(dff.total)\n",
    "    # Create line plot with Plotly Express\n",
    "    fig = px.line(dff, x=\"age\", y=\"total\",\n",
    "                  title=f\"{country} — Age vs Total ({year})\")  # px.line docs :contentReference[oaicite:5]{index=5}\n",
    "    fig.update_layout(xaxis_title=\"Age\", yaxis_title=\"Total\")\n",
    "    return fig\n",
    "\n",
    "if __name__ == \"__main__\":\n",
    "    app.run(debug=True)\n"
   ]
  }
 ],
 "metadata": {
  "kernelspec": {
   "display_name": ".venv",
   "language": "python",
   "name": "python3"
  },
  "language_info": {
   "codemirror_mode": {
    "name": "ipython",
    "version": 3
   },
   "file_extension": ".py",
   "mimetype": "text/x-python",
   "name": "python",
   "nbconvert_exporter": "python",
   "pygments_lexer": "ipython3",
   "version": "3.13.2"
  }
 },
 "nbformat": 4,
 "nbformat_minor": 5
}
